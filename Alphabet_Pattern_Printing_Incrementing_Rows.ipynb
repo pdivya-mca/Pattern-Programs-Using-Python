{
  "nbformat": 4,
  "nbformat_minor": 0,
  "metadata": {
    "colab": {
      "provenance": [],
      "authorship_tag": "ABX9TyP2oL8NC8dQW8smR8rRYvGm",
      "include_colab_link": true
    },
    "kernelspec": {
      "name": "python3",
      "display_name": "Python 3"
    },
    "language_info": {
      "name": "python"
    }
  },
  "cells": [
    {
      "cell_type": "markdown",
      "metadata": {
        "id": "view-in-github",
        "colab_type": "text"
      },
      "source": [
        "<a href=\"https://colab.research.google.com/github/pdivya-mca/Pattern-Programs-Using-Python/blob/main/Alphabet_Pattern_Printing_Incrementing_Rows.ipynb\" target=\"_parent\"><img src=\"https://colab.research.google.com/assets/colab-badge.svg\" alt=\"Open In Colab\"/></a>"
      ]
    },
    {
      "cell_type": "markdown",
      "source": [
        "# **Increasing Triangle -- Incrementing Rows**"
      ],
      "metadata": {
        "id": "xuUCf2EH8zb6"
      }
    },
    {
      "cell_type": "code",
      "execution_count": null,
      "metadata": {
        "id": "Db5fZpri5llW",
        "colab": {
          "base_uri": "https://localhost:8080/"
        },
        "outputId": "8f629bd1-b0ab-4a15-e696-959599d718da"
      },
      "outputs": [
        {
          "output_type": "stream",
          "name": "stdout",
          "text": [
            "5\n",
            "A \n",
            "B B \n",
            "C C C \n",
            "D D D D \n",
            "E E E E E \n"
          ]
        }
      ],
      "source": [
        "n=int(input())\n",
        "p=65\n",
        "for i in range(n): #rows\n",
        "  for j in range(i+1): #cols\n",
        "    print(chr(p),end=\" \")\n",
        "  p=p+1\n",
        "  print() # after 1 row print in new line"
      ]
    },
    {
      "cell_type": "markdown",
      "source": [
        "# **Increasing Triangle -- Floyd Triangle**"
      ],
      "metadata": {
        "id": "8b-GcHGn8yNT"
      }
    },
    {
      "cell_type": "code",
      "source": [
        "n=int(input())\n",
        "p=65\n",
        "for i in range(n): #rows\n",
        "  for j in range(i+1): #cols\n",
        "    print( chr(p),end=\" \")\n",
        "    p+=1\n",
        "  print() # after 1 row print in new line"
      ],
      "metadata": {
        "colab": {
          "base_uri": "https://localhost:8080/"
        },
        "id": "gkxszXEW88z5",
        "outputId": "c1f00cb6-b932-43f5-ca49-117713fac6fe"
      },
      "execution_count": null,
      "outputs": [
        {
          "output_type": "stream",
          "name": "stdout",
          "text": [
            "5\n",
            "A \n",
            "B C \n",
            "D E F \n",
            "G H I J \n",
            "K L M N O \n"
          ]
        }
      ]
    },
    {
      "cell_type": "markdown",
      "source": [
        "# **Decreasing Triangle -- Incremanting Rows**"
      ],
      "metadata": {
        "id": "saHXo3Ce9Lkh"
      }
    },
    {
      "cell_type": "code",
      "source": [
        "n=int(input())\n",
        "p=90\n",
        "for i in range(n):\n",
        "  for j in range(i,n):\n",
        "    print(chr(p),end=\" \")\n",
        "  p-=1\n",
        "  print()"
      ],
      "metadata": {
        "colab": {
          "base_uri": "https://localhost:8080/"
        },
        "id": "Kzq2YTqp9QWg",
        "outputId": "eaac2f9a-7a83-45b2-b52a-a42124e38011"
      },
      "execution_count": null,
      "outputs": [
        {
          "output_type": "stream",
          "name": "stdout",
          "text": [
            "5\n",
            "Z Z Z Z Z \n",
            "Y Y Y Y \n",
            "X X X \n",
            "W W \n",
            "V \n"
          ]
        }
      ]
    },
    {
      "cell_type": "markdown",
      "source": [
        "# **Left Triangle -- Increment Rows**"
      ],
      "metadata": {
        "id": "pF6ML4Tb9zk4"
      }
    },
    {
      "cell_type": "code",
      "source": [
        "n=int(input())\n",
        "p=97\n",
        "for i in range(n):\n",
        "  for j in range(i,n):\n",
        "    print(\" \",end=\" \")\n",
        "\n",
        "  for j in range(i+1):\n",
        "    print (chr(p),end=\" \")\n",
        "  p=p+1\n",
        "  print()"
      ],
      "metadata": {
        "colab": {
          "base_uri": "https://localhost:8080/"
        },
        "id": "ok6Zt7Eh92tI",
        "outputId": "0de0888a-0262-47be-d34e-7854291b8f8d"
      },
      "execution_count": null,
      "outputs": [
        {
          "output_type": "stream",
          "name": "stdout",
          "text": [
            "5\n",
            "          a \n",
            "        b b \n",
            "      c c c \n",
            "    d d d d \n",
            "  e e e e e \n"
          ]
        }
      ]
    },
    {
      "cell_type": "markdown",
      "source": [
        "# **Left Triangle - Decrementing Rows**"
      ],
      "metadata": {
        "id": "st271da1-FS5"
      }
    },
    {
      "cell_type": "code",
      "source": [
        "n=int(input())\n",
        "p=71\n",
        "for i in range(n):\n",
        "  for j in range(i,n):\n",
        "    print(\" \",end=\" \")\n",
        "\n",
        "  for j in range(i+1):\n",
        "    print (chr(p),end=\" \")\n",
        "  p=p-1\n",
        "  print()"
      ],
      "metadata": {
        "colab": {
          "base_uri": "https://localhost:8080/"
        },
        "id": "3oNdxdGM-ETo",
        "outputId": "e68bbc6e-bbfe-48cc-b027-fcd696083955"
      },
      "execution_count": null,
      "outputs": [
        {
          "output_type": "stream",
          "name": "stdout",
          "text": [
            "5\n",
            "          G \n",
            "        F F \n",
            "      E E E \n",
            "    D D D D \n",
            "  C C C C C \n"
          ]
        }
      ]
    },
    {
      "cell_type": "markdown",
      "source": [
        "# **Right Sided Triangle -- Incrementing Rows**"
      ],
      "metadata": {
        "id": "fZgE8E2P-SmQ"
      }
    },
    {
      "cell_type": "code",
      "source": [
        "n=int(input())\n",
        "p=65\n",
        "for i in range(n):\n",
        "  for j in range(i+1):\n",
        "    print(\" \",end=\" \")\n",
        "\n",
        "  for j in range (i,n):\n",
        "    print(chr(p), end=\" \")\n",
        "  p=p+1\n",
        "  \n",
        "  print()"
      ],
      "metadata": {
        "colab": {
          "base_uri": "https://localhost:8080/"
        },
        "id": "-flG771B-VYw",
        "outputId": "937d5173-7e75-46f0-d80d-dc81cb81984c"
      },
      "execution_count": null,
      "outputs": [
        {
          "output_type": "stream",
          "name": "stdout",
          "text": [
            "5\n",
            "  A A A A A \n",
            "    B B B B \n",
            "      C C C \n",
            "        D D \n",
            "          E \n"
          ]
        }
      ]
    },
    {
      "cell_type": "markdown",
      "source": [
        "# **Right Sided Triangle -- Decrementing Rows**"
      ],
      "metadata": {
        "id": "RkR-rknC-fiI"
      }
    },
    {
      "cell_type": "code",
      "source": [
        "n=int(input())\n",
        "p=65\n",
        "for i in range(n):\n",
        "  for j in range(i+1):\n",
        "    print(\" \",end=\" \")\n",
        "\n",
        "  for j in range (i,n):\n",
        "    print(chr(p), end=\" \")\n",
        "  p=p-1\n",
        "  \n",
        "  print()"
      ],
      "metadata": {
        "colab": {
          "base_uri": "https://localhost:8080/"
        },
        "id": "6TNYQU_f-iSP",
        "outputId": "547abaad-f9da-451d-90ea-6eb094709536"
      },
      "execution_count": null,
      "outputs": [
        {
          "output_type": "stream",
          "name": "stdout",
          "text": [
            "5\n",
            "  A A A A A \n",
            "    @ @ @ @ \n",
            "      ? ? ? \n",
            "        > > \n",
            "          = \n"
          ]
        }
      ]
    },
    {
      "cell_type": "markdown",
      "source": [
        "# **Hill Pattern -- Strainght Line -- Incrementing Rows**"
      ],
      "metadata": {
        "id": "0-boJoe2-wVp"
      }
    },
    {
      "cell_type": "code",
      "source": [
        "n=int(input())\n",
        "p=65\n",
        "for i in range(n):\n",
        "\n",
        "  for j in range(i,n):\n",
        "    print(\" \",end=\" \")\n",
        "\n",
        "  for j in range (i):\n",
        "    print(chr(p),end=\" \")\n",
        "\n",
        "  for j in range (i+1):\n",
        "    print(chr(p),end=\" \")\n",
        "  p=p+1\n",
        "\n",
        "  print()"
      ],
      "metadata": {
        "colab": {
          "base_uri": "https://localhost:8080/"
        },
        "id": "z5c8VJNW-v8p",
        "outputId": "092cb05e-8e76-4797-e441-92d10c85d200"
      },
      "execution_count": null,
      "outputs": [
        {
          "output_type": "stream",
          "name": "stdout",
          "text": [
            "5\n",
            "          A \n",
            "        B B B \n",
            "      C C C C C \n",
            "    D D D D D D D \n",
            "  E E E E E E E E E \n"
          ]
        }
      ]
    },
    {
      "cell_type": "markdown",
      "source": [
        "# **Hill Pattern -- Inbetween Characters -- Incrementing Rows**"
      ],
      "metadata": {
        "id": "d1IAqICQ_BVg"
      }
    },
    {
      "cell_type": "code",
      "source": [
        "n=int(input())\n",
        "p=65\n",
        "for i in range(n):\n",
        "\n",
        "  for j in range(i,n):\n",
        "    print(\"\",end=\" \")\n",
        "\n",
        "  for j in range (i+1):\n",
        "    print(chr(p),end=\" \")\n",
        "  p=p+1\n",
        "\n",
        "  print()\n",
        "\n"
      ],
      "metadata": {
        "colab": {
          "base_uri": "https://localhost:8080/"
        },
        "id": "hXnmjtLJ_Fbo",
        "outputId": "788d1d73-c793-4f70-ba4e-f01cca1a036c"
      },
      "execution_count": null,
      "outputs": [
        {
          "output_type": "stream",
          "name": "stdout",
          "text": [
            "5\n",
            "     A \n",
            "    B B \n",
            "   C C C \n",
            "  D D D D \n",
            " E E E E E \n"
          ]
        }
      ]
    },
    {
      "cell_type": "markdown",
      "source": [
        "# **Reverse Hill Pattern -- Increamenting Rows**"
      ],
      "metadata": {
        "id": "4Wn4z_H2_Q5v"
      }
    },
    {
      "cell_type": "code",
      "source": [
        "n=int(input())\n",
        "p=65\n",
        "for i in range(n):\n",
        "  for j in range(i+1):\n",
        "    print(\" \",end=\" \")\n",
        "\n",
        "  for j in range (i,n-1):\n",
        "    print(chr(p), end= \" \")\n",
        "\n",
        "  for j in range(i,n):\n",
        "    print(chr(p),end=\" \")\n",
        "  p+=1\n",
        "\n",
        "  print()"
      ],
      "metadata": {
        "colab": {
          "base_uri": "https://localhost:8080/"
        },
        "id": "xNgJJS0X_Uqw",
        "outputId": "f7c92f9e-efc3-444f-cc0d-6ac98005b195"
      },
      "execution_count": null,
      "outputs": [
        {
          "output_type": "stream",
          "name": "stdout",
          "text": [
            "5\n",
            "  A A A A A A A A A \n",
            "    B B B B B B B \n",
            "      C C C C C \n",
            "        D D D \n",
            "          E \n"
          ]
        }
      ]
    },
    {
      "cell_type": "markdown",
      "source": [
        "# **Reverse Hill Pattern -- Decreamenting Rows**"
      ],
      "metadata": {
        "id": "EPWbNt9M_cGZ"
      }
    },
    {
      "cell_type": "code",
      "source": [
        "n=int(input())\n",
        "p=70\n",
        "for i in range(n):\n",
        "  for j in range(i+1):\n",
        "    print(\" \",end=\" \")\n",
        "\n",
        "  for j in range (i,n-1):\n",
        "    print(chr(p), end= \" \")\n",
        "\n",
        "  for j in range(i,n):\n",
        "    print(chr(p),end=\" \")\n",
        "  p-=1\n",
        "\n",
        "  print()"
      ],
      "metadata": {
        "colab": {
          "base_uri": "https://localhost:8080/"
        },
        "id": "HTkxYUtm_fcj",
        "outputId": "ebc4ee28-2d81-4ec5-d1c7-7f286d160067"
      },
      "execution_count": null,
      "outputs": [
        {
          "output_type": "stream",
          "name": "stdout",
          "text": [
            "5\n",
            "  F F F F F F F F F \n",
            "    E E E E E E E \n",
            "      D D D D D \n",
            "        C C C \n",
            "          B \n"
          ]
        }
      ]
    },
    {
      "cell_type": "markdown",
      "source": [
        "# **Diamond Pattern -- Increamenting Rows**"
      ],
      "metadata": {
        "id": "LRjKHwDu_o8I"
      }
    },
    {
      "cell_type": "code",
      "source": [
        "n=int(input())\n",
        "p=65\n",
        "for i in range(n-1):\n",
        "\n",
        "  for j in range(i,n):\n",
        "    print(\" \",end=\" \")\n",
        "\n",
        "  for j in range (i):\n",
        "    print(chr(p),end=\" \")\n",
        "\n",
        "  for j in range (i+1):\n",
        "    print(chr(p),end=\" \")\n",
        "  p+=1\n",
        "  \n",
        "  print()\n",
        "\n",
        "for i in range(n):\n",
        "\n",
        "  for j in range(i+1):\n",
        "    print(\" \",end=\" \")\n",
        "\n",
        "  for j in range (i,n-1):\n",
        "    print(chr(p), end= \" \")\n",
        "\n",
        "  for j in range(i,n):\n",
        "    print(chr(p),end=\" \")\n",
        "  p+=1\n",
        "\n",
        "  print()"
      ],
      "metadata": {
        "colab": {
          "base_uri": "https://localhost:8080/"
        },
        "id": "GghpzkEP_rzQ",
        "outputId": "7a4281b5-db98-475c-9654-aada090cb00e"
      },
      "execution_count": null,
      "outputs": [
        {
          "output_type": "stream",
          "name": "stdout",
          "text": [
            "5\n",
            "          A \n",
            "        B B B \n",
            "      C C C C C \n",
            "    D D D D D D D \n",
            "  E E E E E E E E E \n",
            "    F F F F F F F \n",
            "      G G G G G \n",
            "        H H H \n",
            "          I \n"
          ]
        }
      ]
    },
    {
      "cell_type": "markdown",
      "source": [
        "# **Diamond Pattern -- Increamenting Rows -after middle- Decrementing Rows**"
      ],
      "metadata": {
        "id": "jCfOI1BB_6yP"
      }
    },
    {
      "cell_type": "code",
      "source": [
        "n=int(input())\n",
        "p=70\n",
        "for i in range(n-1):\n",
        "\n",
        "  for j in range(i,n):\n",
        "    print(\" \",end=\" \")\n",
        "\n",
        "  for j in range (i):\n",
        "    print(chr(p),end=\" \")\n",
        "\n",
        "  for j in range (i+1):\n",
        "    print(chr(p),end=\" \")\n",
        "  p+=1\n",
        "  \n",
        "  print()\n",
        "\n",
        "for i in range(n):\n",
        "\n",
        "  for j in range(i+1):\n",
        "    print(\" \",end=\" \")\n",
        "\n",
        "  for j in range (i,n-1):\n",
        "    print(chr(p), end= \" \")\n",
        "\n",
        "  for j in range(i,n):\n",
        "    print(chr(p),end=\" \")\n",
        "  p-=1\n",
        "\n",
        "  print()"
      ],
      "metadata": {
        "colab": {
          "base_uri": "https://localhost:8080/"
        },
        "id": "-W4li_XS_9kv",
        "outputId": "ad3604a3-e910-47b8-ee98-676bd07dea85"
      },
      "execution_count": null,
      "outputs": [
        {
          "output_type": "stream",
          "name": "stdout",
          "text": [
            "5\n",
            "          F \n",
            "        G G G \n",
            "      H H H H H \n",
            "    I I I I I I I \n",
            "  J J J J J J J J J \n",
            "    I I I I I I I \n",
            "      H H H H H \n",
            "        G G G \n",
            "          F \n"
          ]
        }
      ]
    },
    {
      "cell_type": "markdown",
      "source": [
        "# **Sandglass pattern -- Incrementing Rows**"
      ],
      "metadata": {
        "id": "I0YFJwnHAMmR"
      }
    },
    {
      "cell_type": "code",
      "source": [
        "n=int(input())\n",
        "p=65\n",
        "for i in range(n-1):\n",
        "\n",
        "  for j in range(i+1):\n",
        "    print(\" \",end=\" \")\n",
        "  \n",
        "  for j in range(i,n-1):\n",
        "    print(chr(p),end=\" \")\n",
        "  \n",
        "  for j in range(i,n):\n",
        "    print(chr(p), end=\" \")\n",
        "  p+=1\n",
        "  \n",
        "  print()\n",
        "\n",
        "for i in range(n):\n",
        "\n",
        "  for j in range(i,n):\n",
        "    print(\" \",end=\" \")\n",
        "  \n",
        "  for j in range(i):\n",
        "    print(chr(p),end=\" \")\n",
        "  \n",
        "  for j in range(i+1):\n",
        "    print(chr(p), end=\" \")\n",
        "  p+=1\n",
        "  \n",
        "  print()"
      ],
      "metadata": {
        "colab": {
          "base_uri": "https://localhost:8080/"
        },
        "id": "tCtC2s_XAN5v",
        "outputId": "d2eca03f-801a-472c-e1a8-96f061d56016"
      },
      "execution_count": null,
      "outputs": [
        {
          "output_type": "stream",
          "name": "stdout",
          "text": [
            "5\n",
            "  A A A A A A A A A \n",
            "    B B B B B B B \n",
            "      C C C C C \n",
            "        D D D \n",
            "          E \n",
            "        F F F \n",
            "      G G G G G \n",
            "    H H H H H H H \n",
            "  I I I I I I I I I \n"
          ]
        }
      ]
    },
    {
      "cell_type": "markdown",
      "source": [
        "# **Sandglass pattern -- Incrementing Rows -- After Middle -- Decrementing Rows**"
      ],
      "metadata": {
        "id": "EYBVQZgEAa0X"
      }
    },
    {
      "cell_type": "code",
      "source": [
        "n=int(input())\n",
        "p=65\n",
        "for i in range(n-1):\n",
        "\n",
        "  for j in range(i+1):\n",
        "    print(\" \",end=\" \")\n",
        "  \n",
        "  for j in range(i,n-1):\n",
        "    print(chr(p),end=\" \")\n",
        "  \n",
        "  for j in range(i,n):\n",
        "    print(chr(p), end=\" \")\n",
        "  p+=1\n",
        "  \n",
        "  print()\n",
        "\n",
        "for i in range(n):\n",
        "\n",
        "  for j in range(i,n):\n",
        "    print(\" \",end=\" \")\n",
        "  \n",
        "  for j in range(i):\n",
        "    print(chr(p),end=\" \")\n",
        "  \n",
        "  for j in range(i+1):\n",
        "    print(chr(p), end=\" \")\n",
        "  p-=1\n",
        "  \n",
        "  print()"
      ],
      "metadata": {
        "colab": {
          "base_uri": "https://localhost:8080/"
        },
        "id": "YjtfThoSAc3X",
        "outputId": "d60b5f7b-865f-4fd9-8774-e9c9047f2a9a"
      },
      "execution_count": null,
      "outputs": [
        {
          "output_type": "stream",
          "name": "stdout",
          "text": [
            "5\n",
            "  A A A A A A A A A \n",
            "    B B B B B B B \n",
            "      C C C C C \n",
            "        D D D \n",
            "          E \n",
            "        D D D \n",
            "      C C C C C \n",
            "    B B B B B B B \n",
            "  A A A A A A A A A \n"
          ]
        }
      ]
    },
    {
      "cell_type": "markdown",
      "source": [
        "# **Left Pascal's Triangle -- Incrementing Rows**"
      ],
      "metadata": {
        "id": "m-kdc83RAqc3"
      }
    },
    {
      "cell_type": "code",
      "source": [
        "n=int(input())\n",
        "p=65\n",
        "for i in range(n-1):\n",
        "  for j in range(i+1):\n",
        "    print(chr(p),end=\" \")\n",
        "  p+=1\n",
        "  print()\n",
        "\n",
        "for i in range(n):\n",
        "  for j in range(i,n):\n",
        "    print(chr(p),end=\" \")\n",
        "  p+=1\n",
        "  print()"
      ],
      "metadata": {
        "colab": {
          "base_uri": "https://localhost:8080/"
        },
        "id": "baHKsGO-AtMY",
        "outputId": "c866f50e-3ad8-4db3-b004-59b4d89e88a7"
      },
      "execution_count": null,
      "outputs": [
        {
          "output_type": "stream",
          "name": "stdout",
          "text": [
            "5\n",
            "A \n",
            "B B \n",
            "C C C \n",
            "D D D D \n",
            "E E E E E \n",
            "F F F F \n",
            "G G G \n",
            "H H \n",
            "I \n"
          ]
        }
      ]
    },
    {
      "cell_type": "markdown",
      "source": [
        "# **Left Pascal's Triangle -- Incrementing Rows -- After Middle -- Decrementing Rows**"
      ],
      "metadata": {
        "id": "Wg7ZT1QGA4Gn"
      }
    },
    {
      "cell_type": "code",
      "source": [
        "n=int(input())\n",
        "p=65\n",
        "for i in range(n-1):\n",
        "  for j in range(i+1):\n",
        "    print(chr(p),end=\" \")\n",
        "  p+=1\n",
        "  print()\n",
        "\n",
        "for i in range(n):\n",
        "  for j in range(i,n):\n",
        "    print(chr(p),end=\" \")\n",
        "  p-=1\n",
        "  print()"
      ],
      "metadata": {
        "colab": {
          "base_uri": "https://localhost:8080/"
        },
        "id": "akuCelV0A6xX",
        "outputId": "e24bb8a2-c8ff-4989-e54c-7ee2445d8f8e"
      },
      "execution_count": null,
      "outputs": [
        {
          "output_type": "stream",
          "name": "stdout",
          "text": [
            "5\n",
            "A \n",
            "B B \n",
            "C C C \n",
            "D D D D \n",
            "E E E E E \n",
            "D D D D \n",
            "C C C \n",
            "B B \n",
            "A \n"
          ]
        }
      ]
    },
    {
      "cell_type": "markdown",
      "source": [
        "# **Right Pascal -- Incrementing Rows**"
      ],
      "metadata": {
        "id": "X2_hh4DuBEyp"
      }
    },
    {
      "cell_type": "code",
      "source": [
        "n=int(input())\n",
        "p=65\n",
        "for i in range(n-1):\n",
        "  for j in range (i,n):\n",
        "    print(\" \",end=\" \")\n",
        "    \n",
        "  for j in range(i+1):\n",
        "    print(chr(p),end=\" \")\n",
        "  p+=1\n",
        "  print()\n",
        "\n",
        "for i in range(n):\n",
        "  for j in range(i+1):\n",
        "    print(\" \",end=\" \")\n",
        "\n",
        "  for j in range(i,n):\n",
        "    print(chr(p),end=\" \")\n",
        "  p+=1\n",
        "  print()\n",
        "\n"
      ],
      "metadata": {
        "colab": {
          "base_uri": "https://localhost:8080/"
        },
        "id": "lorrA5LTBHf_",
        "outputId": "aaf3e558-18c8-46a6-8fc3-8be3ae0ccc9f"
      },
      "execution_count": null,
      "outputs": [
        {
          "output_type": "stream",
          "name": "stdout",
          "text": [
            "5\n",
            "          A \n",
            "        B B \n",
            "      C C C \n",
            "    D D D D \n",
            "  E E E E E \n",
            "    F F F F \n",
            "      G G G \n",
            "        H H \n",
            "          I \n"
          ]
        }
      ]
    },
    {
      "cell_type": "markdown",
      "source": [
        "# **Right Pascal -- Incrementing Rows -- After Middle -- Decrementing Rows**"
      ],
      "metadata": {
        "id": "2UJ1cUuHBRY4"
      }
    },
    {
      "cell_type": "code",
      "source": [
        "n=int(input())\n",
        "p=65\n",
        "for i in range(n-1):\n",
        "  for j in range (i,n):\n",
        "    print(\" \",end=\" \")\n",
        "    \n",
        "  for j in range(i+1):\n",
        "    print(chr(p),end=\" \")\n",
        "  p+=1\n",
        "  print()\n",
        "\n",
        "for i in range(n):\n",
        "  for j in range(i+1):\n",
        "    print(\" \",end=\" \")\n",
        "\n",
        "  for j in range(i,n):\n",
        "    print(chr(p),end=\" \")\n",
        "  p-=1\n",
        "  print()\n",
        "\n"
      ],
      "metadata": {
        "colab": {
          "base_uri": "https://localhost:8080/"
        },
        "id": "MgM81ozRBTcP",
        "outputId": "eb0d1ddd-5619-42d6-d27c-0d5cc4ded28b"
      },
      "execution_count": null,
      "outputs": [
        {
          "output_type": "stream",
          "name": "stdout",
          "text": [
            "5\n",
            "          A \n",
            "        B B \n",
            "      C C C \n",
            "    D D D D \n",
            "  E E E E E \n",
            "    D D D D \n",
            "      C C C \n",
            "        B B \n",
            "          A \n"
          ]
        }
      ]
    },
    {
      "cell_type": "markdown",
      "source": [
        "# **Butterfly -- Incrementing Rows**"
      ],
      "metadata": {
        "id": "FNeCGL3WBeDY"
      }
    },
    {
      "cell_type": "code",
      "source": [
        "n=int(input())\n",
        "p=65\n",
        "\n",
        "for i in range(n-1):\n",
        "  for j in range(i+1):\n",
        "    print(chr(p),end=\" \")\n",
        "\n",
        "  for j in range(i,n-1):\n",
        "    print(\" \", end=\" \")\n",
        "\n",
        "  for j in range(i,n):\n",
        "    print(\" \",end=\" \")\n",
        "\n",
        "  for j in range(i+1):\n",
        "    print(chr(p),end=\" \")\n",
        "  p+=1\n",
        "  \n",
        "  print()\n",
        "\n",
        "for i in range(n):\n",
        "  for j in range(i,n):\n",
        "    print(chr(p),end=\" \")\n",
        "  \n",
        "  for j in range(i):\n",
        "    print(\" \",end=\" \")\n",
        "\n",
        "  for j in range(i+1):\n",
        "    print(\" \", end=\" \")\n",
        "\n",
        "  for j in range(i,n):\n",
        "    print(chr(p),end=\" \")\n",
        "  p+=1\n",
        "\n",
        "  print()\n",
        "\n"
      ],
      "metadata": {
        "colab": {
          "base_uri": "https://localhost:8080/"
        },
        "id": "ZhVQ8U-HBgdH",
        "outputId": "7351bf5d-e9c6-47b9-8a6b-2d2a421bd96f"
      },
      "execution_count": null,
      "outputs": [
        {
          "output_type": "stream",
          "name": "stdout",
          "text": [
            "5\n",
            "A                   A \n",
            "B B               B B \n",
            "C C C           C C C \n",
            "D D D D       D D D D \n",
            "E E E E E   E E E E E \n",
            "F F F F       F F F F \n",
            "G G G           G G G \n",
            "H H               H H \n",
            "I                   I \n"
          ]
        }
      ]
    },
    {
      "cell_type": "markdown",
      "source": [
        "# **Butterfly -- Incrementing Rows -- After Middle -- Decrementing Rows**"
      ],
      "metadata": {
        "id": "6UIjh3hKBvR3"
      }
    },
    {
      "cell_type": "code",
      "source": [
        "n=int(input())\n",
        "p=65\n",
        "\n",
        "for i in range(n-1):\n",
        "  for j in range(i+1):\n",
        "    print(chr(p),end=\" \")\n",
        "\n",
        "  for j in range(i,n-1):\n",
        "    print(\" \", end=\" \")\n",
        "\n",
        "  for j in range(i,n):\n",
        "    print(\" \",end=\" \")\n",
        "\n",
        "  for j in range(i+1):\n",
        "    print(chr(p),end=\" \")\n",
        "  p+=1\n",
        "  \n",
        "  print()\n",
        "\n",
        "for i in range(n):\n",
        "  for j in range(i,n):\n",
        "    print(chr(p),end=\" \")\n",
        "  \n",
        "  for j in range(i):\n",
        "    print(\" \",end=\" \")\n",
        "\n",
        "  for j in range(i+1):\n",
        "    print(\" \", end=\" \")\n",
        "\n",
        "  for j in range(i,n):\n",
        "    print(chr(p),end=\" \")\n",
        "  p-=1\n",
        "\n",
        "  print()\n",
        "\n"
      ],
      "metadata": {
        "colab": {
          "base_uri": "https://localhost:8080/"
        },
        "id": "-tNGm_jvByVn",
        "outputId": "c318217c-6e6a-4e2b-f6ff-7d7015888403"
      },
      "execution_count": null,
      "outputs": [
        {
          "output_type": "stream",
          "name": "stdout",
          "text": [
            "5\n",
            "A                   A \n",
            "B B               B B \n",
            "C C C           C C C \n",
            "D D D D       D D D D \n",
            "E E E E E   E E E E E \n",
            "D D D D       D D D D \n",
            "C C C           C C C \n",
            "B B               B B \n",
            "A                   A \n"
          ]
        }
      ]
    }
  ]
}
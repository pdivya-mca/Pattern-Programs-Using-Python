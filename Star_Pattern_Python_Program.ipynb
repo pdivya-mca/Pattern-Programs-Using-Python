{
  "nbformat": 4,
  "nbformat_minor": 0,
  "metadata": {
    "colab": {
      "provenance": [],
      "collapsed_sections": [],
      "authorship_tag": "ABX9TyMNf18qkaQvmmMP7uj0eqS6",
      "include_colab_link": true
    },
    "kernelspec": {
      "name": "python3",
      "display_name": "Python 3"
    },
    "language_info": {
      "name": "python"
    }
  },
  "cells": [
    {
      "cell_type": "markdown",
      "metadata": {
        "id": "view-in-github",
        "colab_type": "text"
      },
      "source": [
        "<a href=\"https://colab.research.google.com/github/pdivya-mca/Pattern-Programs-Using-Python/blob/main/Star_Pattern_Python_Program.ipynb\" target=\"_parent\"><img src=\"https://colab.research.google.com/assets/colab-badge.svg\" alt=\"Open In Colab\"/></a>"
      ]
    },
    {
      "cell_type": "markdown",
      "source": [
        "# **Increasing Triangle**"
      ],
      "metadata": {
        "id": "XWox_jLHmo0G"
      }
    },
    {
      "cell_type": "code",
      "execution_count": null,
      "metadata": {
        "colab": {
          "base_uri": "https://localhost:8080/"
        },
        "id": "8EuUBJ07mfli",
        "outputId": "beea5da5-e14e-47a7-e551-81ca453dfd28"
      },
      "outputs": [
        {
          "output_type": "stream",
          "name": "stdout",
          "text": [
            "5\n",
            "* \n",
            "* * \n",
            "* * * \n",
            "* * * * \n",
            "* * * * * \n"
          ]
        }
      ],
      "source": [
        "n=int(input())\n",
        "for i in range(n): #rows\n",
        "  for j in range(i+1): #cols\n",
        "    print(\"*\",end=\" \")\n",
        "  print() # after 1 row print in new line"
      ]
    },
    {
      "cell_type": "markdown",
      "source": [
        "# **Decreasing Triangle:**"
      ],
      "metadata": {
        "id": "anVa72atnbUt"
      }
    },
    {
      "cell_type": "code",
      "source": [
        "n=int(input())\n",
        "for i in range(n):\n",
        "  for j in range(i,n):\n",
        "    print(\"*\",end=\" \")\n",
        "  print()"
      ],
      "metadata": {
        "colab": {
          "base_uri": "https://localhost:8080/"
        },
        "id": "cPourOxXna25",
        "outputId": "fcf84ddc-b5e4-43c7-e757-8274b76ebf28"
      },
      "execution_count": null,
      "outputs": [
        {
          "output_type": "stream",
          "name": "stdout",
          "text": [
            "5\n",
            "* * * * * \n",
            "* * * * \n",
            "* * * \n",
            "* * \n",
            "* \n"
          ]
        }
      ]
    },
    {
      "cell_type": "markdown",
      "source": [
        "# **Left Triangle**"
      ],
      "metadata": {
        "id": "2QlL5vOEoVv8"
      }
    },
    {
      "cell_type": "code",
      "source": [
        "n=int(input())\n",
        "for i in range(n):\n",
        "  for j in range(i,n):\n",
        "    print(\" \",end=\" \")\n",
        "\n",
        "  for j in range(i+1):\n",
        "    print (\"*\",end=\" \")\n",
        "  print()"
      ],
      "metadata": {
        "colab": {
          "base_uri": "https://localhost:8080/"
        },
        "id": "kOS6ZBM2oSTd",
        "outputId": "b3eba0e2-2f43-4b3d-f3c5-20f07534707c"
      },
      "execution_count": null,
      "outputs": [
        {
          "output_type": "stream",
          "name": "stdout",
          "text": [
            "5\n",
            "          * \n",
            "        * * \n",
            "      * * * \n",
            "    * * * * \n",
            "  * * * * * \n"
          ]
        }
      ]
    },
    {
      "cell_type": "markdown",
      "source": [
        "# **Right Sided Triangle**"
      ],
      "metadata": {
        "id": "7GdkOuwMqHht"
      }
    },
    {
      "cell_type": "code",
      "source": [
        "n=int(input())\n",
        "for i in range(n):\n",
        "  for j in range(i+1):\n",
        "    print(\" \",end=\" \")\n",
        "\n",
        "  for j in range (i,n):\n",
        "    print(\"*\", end=\" \")\n",
        "  \n",
        "  print()"
      ],
      "metadata": {
        "colab": {
          "base_uri": "https://localhost:8080/"
        },
        "id": "oocmxNhhqMeU",
        "outputId": "71c09cc0-0403-46a2-bb3d-ed5dc87e1d59"
      },
      "execution_count": null,
      "outputs": [
        {
          "output_type": "stream",
          "name": "stdout",
          "text": [
            "5\n",
            "  * * * * * \n",
            "    * * * * \n",
            "      * * * \n",
            "        * * \n",
            "          * \n"
          ]
        }
      ]
    },
    {
      "cell_type": "markdown",
      "source": [
        "# **Hill Pattern -- Straight Line**"
      ],
      "metadata": {
        "id": "sImAmSq9056P"
      }
    },
    {
      "cell_type": "code",
      "source": [
        "n=int(input())\n",
        "for i in range(n):\n",
        "\n",
        "  for j in range(i,n):\n",
        "    print(\" \",end=\" \")\n",
        "\n",
        "  for j in range (i):\n",
        "    print(\"*\",end=\" \")\n",
        "\n",
        "  for j in range (i+1):\n",
        "    print(\"*\",end=\" \")\n",
        "\n",
        "  print()"
      ],
      "metadata": {
        "colab": {
          "base_uri": "https://localhost:8080/"
        },
        "id": "-4PoDSTS0--a",
        "outputId": "86b2a762-c474-4b2b-a56c-6a8d6acb4bf9"
      },
      "execution_count": null,
      "outputs": [
        {
          "output_type": "stream",
          "name": "stdout",
          "text": [
            "5\n",
            "          * \n",
            "        * * * \n",
            "      * * * * * \n",
            "    * * * * * * * \n",
            "  * * * * * * * * * \n"
          ]
        }
      ]
    },
    {
      "cell_type": "markdown",
      "source": [
        "# **Hill Pattern -- star is in between 2 stars**"
      ],
      "metadata": {
        "id": "KSsxHXwu9gF2"
      }
    },
    {
      "cell_type": "code",
      "source": [
        "n=int(input())\n",
        "for i in range(n):\n",
        "\n",
        "  for j in range(i,n):\n",
        "    print(\"\",end=\" \")\n",
        "\n",
        "  for j in range (i+1):\n",
        "    print(\"*\",end=\" \")\n",
        "\n",
        "  print()\n",
        "\n"
      ],
      "metadata": {
        "colab": {
          "base_uri": "https://localhost:8080/"
        },
        "id": "E2ec88Vs9vu8",
        "outputId": "b69d1554-7b47-41b9-afc2-98f166057a2b"
      },
      "execution_count": null,
      "outputs": [
        {
          "output_type": "stream",
          "name": "stdout",
          "text": [
            "5\n",
            "     * \n",
            "    * * \n",
            "   * * * \n",
            "  * * * * \n",
            " * * * * * \n"
          ]
        }
      ]
    },
    {
      "cell_type": "markdown",
      "source": [
        "# **Reverse Hill Pattern**"
      ],
      "metadata": {
        "id": "4BB_fPM22ewt"
      }
    },
    {
      "cell_type": "code",
      "source": [
        "n=int(input())\n",
        "for i in range(n):\n",
        "  for j in range(i+1):\n",
        "    print(\" \",end=\" \")\n",
        "\n",
        "  for j in range (i,n-1):\n",
        "    print(\"*\", end= \" \")\n",
        "\n",
        "  for j in range(i,n):\n",
        "    print(\"*\",end=\" \")\n",
        "\n",
        "  print()"
      ],
      "metadata": {
        "colab": {
          "base_uri": "https://localhost:8080/"
        },
        "id": "bKcH6Xh02UFO",
        "outputId": "91c3b651-d4be-4b9e-a7da-afc7eafc0b2a"
      },
      "execution_count": null,
      "outputs": [
        {
          "output_type": "stream",
          "name": "stdout",
          "text": [
            "5\n",
            "  * * * * * * * * * \n",
            "    * * * * * * * \n",
            "      * * * * * \n",
            "        * * * \n",
            "          * \n"
          ]
        }
      ]
    },
    {
      "cell_type": "markdown",
      "source": [
        "# **Diamond Pattern**"
      ],
      "metadata": {
        "id": "2eJ4sSj33bFg"
      }
    },
    {
      "cell_type": "code",
      "source": [
        "n=int(input())\n",
        "\n",
        "for i in range(n-1):\n",
        "\n",
        "  for j in range(i,n):\n",
        "    print(\" \",end=\" \")\n",
        "\n",
        "  for j in range (i):\n",
        "    print(\"*\",end=\" \")\n",
        "\n",
        "  for j in range (i+1):\n",
        "    print(\"*\",end=\" \")\n",
        "  \n",
        "  print()\n",
        "\n",
        "for i in range(n):\n",
        "\n",
        "  for j in range(i+1):\n",
        "    print(\" \",end=\" \")\n",
        "\n",
        "  for j in range (i,n-1):\n",
        "    print(\"*\", end= \" \")\n",
        "\n",
        "  for j in range(i,n):\n",
        "    print(\"*\",end=\" \")\n",
        "\n",
        "  print()"
      ],
      "metadata": {
        "colab": {
          "base_uri": "https://localhost:8080/"
        },
        "id": "jn-spxRI3lfH",
        "outputId": "f3ed2d62-24cd-47e7-b864-cb23a3dfe45f"
      },
      "execution_count": null,
      "outputs": [
        {
          "output_type": "stream",
          "name": "stdout",
          "text": [
            "5\n",
            "          * \n",
            "        * * * \n",
            "      * * * * * \n",
            "    * * * * * * * \n",
            "  * * * * * * * * * \n",
            "    * * * * * * * \n",
            "      * * * * * \n",
            "        * * * \n",
            "          * \n"
          ]
        }
      ]
    },
    {
      "cell_type": "markdown",
      "source": [
        "# **Double Hill**"
      ],
      "metadata": {
        "id": "RUfWlUvM4rP_"
      }
    },
    {
      "cell_type": "code",
      "source": [
        "n = int(input())\n",
        "for i in range(n):\n",
        "# 1st Triangle\n",
        "  for j in range (i,n):\n",
        "    print(\"\",end=\" \")\n",
        "\n",
        "  for j in range(i+1):\n",
        "    print(\"*\", end=\" \")\n",
        "  \n",
        "  for j in range (i,n-1):\n",
        "    print(\" \",end=\" \")\n",
        "\n",
        "#2nd Triangle\n",
        " \n",
        "\n",
        "  for j in range(i+1):\n",
        "    print(\"*\", end=\" \")\n",
        "  \n",
        " \n",
        "  for j in range (i,n-1):\n",
        "    print(\" \",end=\" \")\n",
        "  \n",
        "\n",
        "  print()\n"
      ],
      "metadata": {
        "colab": {
          "base_uri": "https://localhost:8080/"
        },
        "id": "kuj5HPoX4utW",
        "outputId": "c1646518-df23-4e0e-fef6-f137a1da7f23"
      },
      "execution_count": null,
      "outputs": [
        {
          "output_type": "stream",
          "name": "stdout",
          "text": [
            "5\n",
            "     *         *         \n",
            "    * *       * *       \n",
            "   * * *     * * *     \n",
            "  * * * *   * * * *   \n",
            " * * * * * * * * * * \n"
          ]
        }
      ]
    },
    {
      "cell_type": "markdown",
      "source": [
        "# **Sandglass**"
      ],
      "metadata": {
        "id": "3VKbQd4zGmcs"
      }
    },
    {
      "cell_type": "code",
      "source": [
        "n=int(input())\n",
        "for i in range(n-1):\n",
        "\n",
        "  for j in range(i+1):\n",
        "    print(\" \",end=\" \")\n",
        "  \n",
        "  for j in range(i,n-1):\n",
        "    print(\"*\",end=\" \")\n",
        "  \n",
        "  for j in range(i,n):\n",
        "    print(\"*\", end=\" \")\n",
        "  \n",
        "  print()\n",
        "\n",
        "for i in range(n):\n",
        "\n",
        "  for j in range(i,n):\n",
        "    print(\" \",end=\" \")\n",
        "  \n",
        "  for j in range(i):\n",
        "    print(\"*\",end=\" \")\n",
        "  \n",
        "  for j in range(i+1):\n",
        "    print(\"*\", end=\" \")\n",
        "  \n",
        "  print()"
      ],
      "metadata": {
        "colab": {
          "base_uri": "https://localhost:8080/"
        },
        "id": "ciDMeLCyG5IL",
        "outputId": "a00ff3b5-a72b-4dc1-f8d2-378ba817eb3f"
      },
      "execution_count": null,
      "outputs": [
        {
          "output_type": "stream",
          "name": "stdout",
          "text": [
            "5\n",
            "  * * * * * * * * * \n",
            "    * * * * * * * \n",
            "      * * * * * \n",
            "        * * * \n",
            "          * \n",
            "        * * * \n",
            "      * * * * * \n",
            "    * * * * * * * \n",
            "  * * * * * * * * * \n"
          ]
        }
      ]
    },
    {
      "cell_type": "markdown",
      "source": [
        "# **Left Pascal's Triangle**"
      ],
      "metadata": {
        "id": "WMJjue9oIvoJ"
      }
    },
    {
      "cell_type": "code",
      "source": [
        "n=int(input())\n",
        "for i in range(n-1):\n",
        "  for j in range(i+1):\n",
        "    print(\"*\",end=\" \")\n",
        "  print()\n",
        "\n",
        "for i in range(n):\n",
        "  for j in range(i,n):\n",
        "    print(\"*\",end=\" \")\n",
        "  print()"
      ],
      "metadata": {
        "colab": {
          "base_uri": "https://localhost:8080/"
        },
        "id": "7qsuatmbIvKr",
        "outputId": "f7abe89d-abba-4bc9-c4a5-00c8a501105e"
      },
      "execution_count": null,
      "outputs": [
        {
          "output_type": "stream",
          "name": "stdout",
          "text": [
            "5\n",
            "* \n",
            "* * \n",
            "* * * \n",
            "* * * * \n",
            "* * * * * \n",
            "* * * * \n",
            "* * * \n",
            "* * \n",
            "* \n"
          ]
        }
      ]
    },
    {
      "cell_type": "markdown",
      "source": [
        "# **Right Pascal's Triangle**"
      ],
      "metadata": {
        "id": "z7zBOIrlJ8Fg"
      }
    },
    {
      "cell_type": "code",
      "source": [
        "n=int(input())\n",
        "for i in range(n-1):\n",
        "  for j in range (i,n):\n",
        "    print(\" \",end=\" \")\n",
        "    \n",
        "  for j in range(i+1):\n",
        "    print(\"*\",end=\" \")\n",
        "  print()\n",
        "\n",
        "for i in range(n):\n",
        "  for j in range(i+1):\n",
        "    print(\" \",end=\" \")\n",
        "\n",
        "  for j in range(i,n):\n",
        "    print(\"*\",end=\" \")\n",
        "  print()\n",
        "\n"
      ],
      "metadata": {
        "colab": {
          "base_uri": "https://localhost:8080/"
        },
        "id": "pv7Fb82YJ-PI",
        "outputId": "d495cb38-bb21-4d3f-d1e4-d133ad6faf03"
      },
      "execution_count": null,
      "outputs": [
        {
          "output_type": "stream",
          "name": "stdout",
          "text": [
            "5\n",
            "          * \n",
            "        * * \n",
            "      * * * \n",
            "    * * * * \n",
            "  * * * * * \n",
            "    * * * * \n",
            "      * * * \n",
            "        * * \n",
            "          * \n"
          ]
        }
      ]
    },
    {
      "cell_type": "markdown",
      "source": [
        "# **Butterfly**"
      ],
      "metadata": {
        "id": "JZL2clMVLj5a"
      }
    },
    {
      "cell_type": "code",
      "source": [
        "n=int(input())\n",
        "\n",
        "for i in range(n-1):\n",
        "  for j in range(i+1):\n",
        "    print(\"*\",end=\" \")\n",
        "\n",
        "  for j in range(i,n-1):\n",
        "    print(\" \", end=\" \")\n",
        "\n",
        "  for j in range(i,n):\n",
        "    print(\" \",end=\" \")\n",
        "\n",
        "  for j in range(i+1):\n",
        "    print(\"*\",end=\" \")\n",
        "  \n",
        "  print()\n",
        "\n",
        "for i in range(n):\n",
        "  for j in range(i,n):\n",
        "    print(\"*\",end=\" \")\n",
        "  \n",
        "  for j in range(i):\n",
        "    print(\" \",end=\" \")\n",
        "\n",
        "  for j in range(i+1):\n",
        "    print(\" \", end=\" \")\n",
        "\n",
        "  for j in range(i,n):\n",
        "    print(\"*\",end=\" \")\n",
        "\n",
        "  print()\n",
        "\n"
      ],
      "metadata": {
        "colab": {
          "base_uri": "https://localhost:8080/"
        },
        "id": "V0FOE-OlLoco",
        "outputId": "5c8cfcd5-7a86-485d-cf13-92583e777001"
      },
      "execution_count": null,
      "outputs": [
        {
          "output_type": "stream",
          "name": "stdout",
          "text": [
            "5\n",
            "*                   * \n",
            "* *               * * \n",
            "* * *           * * * \n",
            "* * * *       * * * * \n",
            "* * * * *   * * * * * \n",
            "* * * *       * * * * \n",
            "* * *           * * * \n",
            "* *               * * \n",
            "*                   * \n"
          ]
        }
      ]
    }
  ]
}
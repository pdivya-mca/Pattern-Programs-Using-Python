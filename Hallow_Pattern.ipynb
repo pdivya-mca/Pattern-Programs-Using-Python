{
  "nbformat": 4,
  "nbformat_minor": 0,
  "metadata": {
    "colab": {
      "provenance": [],
      "collapsed_sections": [],
      "authorship_tag": "ABX9TyMqq1pJINXHoFlSzm4OtBkw",
      "include_colab_link": true
    },
    "kernelspec": {
      "name": "python3",
      "display_name": "Python 3"
    },
    "language_info": {
      "name": "python"
    }
  },
  "cells": [
    {
      "cell_type": "markdown",
      "metadata": {
        "id": "view-in-github",
        "colab_type": "text"
      },
      "source": [
        "<a href=\"https://colab.research.google.com/github/pdivya-mca/Pattern-Programs-Using-Python/blob/main/Hallow_Pattern.ipynb\" target=\"_parent\"><img src=\"https://colab.research.google.com/assets/colab-badge.svg\" alt=\"Open In Colab\"/></a>"
      ]
    },
    {
      "cell_type": "markdown",
      "source": [
        "# **Square Pattern**"
      ],
      "metadata": {
        "id": "of3GCRlLzJDL"
      }
    },
    {
      "cell_type": "code",
      "execution_count": null,
      "metadata": {
        "colab": {
          "base_uri": "https://localhost:8080/"
        },
        "id": "ANsQHlJHy5rt",
        "outputId": "e91a1eee-d282-4414-a168-1802415e5127"
      },
      "outputs": [
        {
          "output_type": "stream",
          "name": "stdout",
          "text": [
            "5\n",
            "* * * * * \n",
            "* * * * * \n",
            "* * * * * \n",
            "* * * * * \n",
            "* * * * * \n"
          ]
        }
      ],
      "source": [
        "n=int(input())\n",
        "for i in range(n):\n",
        "  for j in range(n):\n",
        "    print(\"*\", end= \" \")\n",
        "  print()"
      ]
    },
    {
      "cell_type": "markdown",
      "source": [
        "# **Hollow Square**"
      ],
      "metadata": {
        "id": "2zx8sH1G0qAQ"
      }
    },
    {
      "cell_type": "code",
      "source": [
        "n=int(input())\n",
        "for i in range(n):\n",
        "  for j in range(n):\n",
        "    #conditin for 1st row, last row, first column and last column\n",
        "    if (i==0 or j==0 or i==n-1 or j==n-1):\n",
        "      print(\"*\",end=\" \")\n",
        "    else:\n",
        "      print(\" \", end= \" \")\n",
        "  print()"
      ],
      "metadata": {
        "colab": {
          "base_uri": "https://localhost:8080/"
        },
        "id": "-_ivKB2Mz5Sp",
        "outputId": "b2258702-3145-445e-c699-41318ce6bcc0"
      },
      "execution_count": null,
      "outputs": [
        {
          "output_type": "stream",
          "name": "stdout",
          "text": [
            "7\n",
            "* * * * * * * \n",
            "*           * \n",
            "*           * \n",
            "*           * \n",
            "*           * \n",
            "*           * \n",
            "* * * * * * * \n"
          ]
        }
      ]
    },
    {
      "cell_type": "markdown",
      "source": [
        "# **Square Parallel Bar Pattern**"
      ],
      "metadata": {
        "id": "IcMXK11w1kzg"
      }
    },
    {
      "cell_type": "code",
      "source": [
        "n = int(input())\n",
        "\n",
        "for i in range(n):\n",
        "  for j in range(n):\n",
        "    \n",
        "    #printing star for 1st column and last column\n",
        "    if(j==0 or j==n-1):\n",
        "      print(\"*\", end=\" \")\n",
        "\n",
        "    else:\n",
        "      print(\" \",end= \" \")\n",
        "  \n",
        "  print()\n"
      ],
      "metadata": {
        "colab": {
          "base_uri": "https://localhost:8080/"
        },
        "id": "W_YnsBdm0uif",
        "outputId": "684d7750-36d5-49ae-ce83-c87fb9d87b38"
      },
      "execution_count": null,
      "outputs": [
        {
          "output_type": "stream",
          "name": "stdout",
          "text": [
            "5\n",
            "*       * \n",
            "*       * \n",
            "*       * \n",
            "*       * \n",
            "*       * \n"
          ]
        }
      ]
    },
    {
      "cell_type": "markdown",
      "source": [
        "# **Square Parallel Pattern**"
      ],
      "metadata": {
        "id": "SN5fxfnG115g"
      }
    },
    {
      "cell_type": "code",
      "source": [
        "n = int(input())\n",
        "\n",
        "for i in range(n):\n",
        "  for j in range(n):\n",
        "    \n",
        "    #printing star for 1st row and last row\n",
        "    if(i==0 or i==n-1):\n",
        "      print(\"*\", end=\" \")\n",
        "\n",
        "    else:\n",
        "      print(\" \",end= \" \")\n",
        "  \n",
        "  print()\n"
      ],
      "metadata": {
        "colab": {
          "base_uri": "https://localhost:8080/"
        },
        "id": "xEimwlHY1ruI",
        "outputId": "c3f4ccf4-c9e6-431e-f65f-7fc3e71ae351"
      },
      "execution_count": null,
      "outputs": [
        {
          "output_type": "stream",
          "name": "stdout",
          "text": [
            "5\n",
            "* * * * * \n",
            "          \n",
            "          \n",
            "          \n",
            "* * * * * \n"
          ]
        }
      ]
    },
    {
      "cell_type": "markdown",
      "source": [
        "# **Square Plus Pattern**"
      ],
      "metadata": {
        "id": "HfA_31Jc1-Jx"
      }
    },
    {
      "cell_type": "code",
      "source": [
        "n = int (input())\n",
        "for i in range(n):\n",
        "  for j in range (n):\n",
        "    \n",
        "    # star for middle row and middle column\n",
        "    if ( i==n//2 or j==n//2):\n",
        "      print(\"*\", end=\" \")\n",
        "    else:\n",
        "      print(\" \",end=\" \")\n",
        "  print()"
      ],
      "metadata": {
        "colab": {
          "base_uri": "https://localhost:8080/"
        },
        "id": "-DgOPBFm19sK",
        "outputId": "fe6df918-55d3-466c-d6a5-772965f01be1"
      },
      "execution_count": null,
      "outputs": [
        {
          "output_type": "stream",
          "name": "stdout",
          "text": [
            "5\n",
            "    *     \n",
            "    *     \n",
            "* * * * * \n",
            "    *     \n",
            "    *     \n"
          ]
        }
      ]
    },
    {
      "cell_type": "markdown",
      "source": [
        "# **Major Diagonal Pattern 0r Right Diagonal Pattern**"
      ],
      "metadata": {
        "id": "qdGVHnAY3Lip"
      }
    },
    {
      "cell_type": "code",
      "source": [
        "n = int (input())\n",
        "for i in range(n):\n",
        "  for j in range (n):\n",
        "\n",
        "    #checking index of right diagonal\n",
        "    if (i==j):\n",
        "      print(\"*\", end= \" \")\n",
        "    else:\n",
        "      print(\" \", end= \" \")\n",
        "\n",
        "  print()"
      ],
      "metadata": {
        "colab": {
          "base_uri": "https://localhost:8080/"
        },
        "id": "esrpT8a33UO9",
        "outputId": "476e915f-8371-49d5-ab52-790bf1349a9e"
      },
      "execution_count": null,
      "outputs": [
        {
          "output_type": "stream",
          "name": "stdout",
          "text": [
            "5\n",
            "*         \n",
            "  *       \n",
            "    *     \n",
            "      *   \n",
            "        * \n"
          ]
        }
      ]
    },
    {
      "cell_type": "markdown",
      "source": [
        "# **Left Diagonal Pattern**"
      ],
      "metadata": {
        "id": "29mHKSao3wHf"
      }
    },
    {
      "cell_type": "code",
      "source": [
        "n = int (input())\n",
        "for i in range(n):\n",
        "  for j in range (n):\n",
        "    if ( i+j==n-1):\n",
        "      print(\"*\", end=\" \")\n",
        "    else:\n",
        "      print(\" \", end=\" \")\n",
        "  print()"
      ],
      "metadata": {
        "colab": {
          "base_uri": "https://localhost:8080/"
        },
        "id": "jFILPYgA3vig",
        "outputId": "99d0177e-8c6e-46b1-8497-6200d6550a93"
      },
      "execution_count": null,
      "outputs": [
        {
          "output_type": "stream",
          "name": "stdout",
          "text": [
            "5\n",
            "        * \n",
            "      *   \n",
            "    *     \n",
            "  *       \n",
            "*         \n"
          ]
        }
      ]
    },
    {
      "cell_type": "markdown",
      "source": [
        "# **Cross Pattern**"
      ],
      "metadata": {
        "id": "Z3jmmmNt4Q25"
      }
    },
    {
      "cell_type": "code",
      "source": [
        "n = int (input())\n",
        "for i in range(n):\n",
        "  for j in range (n):\n",
        "    if (i==j or i+j==n-1):\n",
        "      print(\"*\", end=\" \")\n",
        "    else:\n",
        "      print(\" \", end=\" \")\n",
        "      \n",
        "  print()"
      ],
      "metadata": {
        "colab": {
          "base_uri": "https://localhost:8080/"
        },
        "id": "FSh63_dx4VOe",
        "outputId": "830383db-348c-4605-e68b-bf267f01fc0e"
      },
      "execution_count": null,
      "outputs": [
        {
          "output_type": "stream",
          "name": "stdout",
          "text": [
            "5\n",
            "*       * \n",
            "  *   *   \n",
            "    *     \n",
            "  *   *   \n",
            "*       * \n"
          ]
        }
      ]
    },
    {
      "cell_type": "markdown",
      "source": [
        "# **Hallow Increasing Triangle Pattern**"
      ],
      "metadata": {
        "id": "2RiEZ49T5F33"
      }
    },
    {
      "cell_type": "code",
      "source": [
        "n=int(input())\n",
        "for i in range(n):\n",
        "  for j in range(i+1):\n",
        "    if (i==n-1 or j==0 or j==i):\n",
        "      print(\"*\", end=\" \")\n",
        "    else:\n",
        "      print(\" \", end= \" \")\n",
        "  print()\n"
      ],
      "metadata": {
        "colab": {
          "base_uri": "https://localhost:8080/"
        },
        "id": "yvTH-E9C4_Ze",
        "outputId": "bc52967a-0ef8-46f2-a353-9dceabbbe065"
      },
      "execution_count": null,
      "outputs": [
        {
          "output_type": "stream",
          "name": "stdout",
          "text": [
            "5\n",
            "* \n",
            "* * \n",
            "*   * \n",
            "*     * \n",
            "* * * * * \n"
          ]
        }
      ]
    },
    {
      "cell_type": "markdown",
      "source": [
        "# **Hallow Decreasing Triangle Pattern**"
      ],
      "metadata": {
        "id": "VccDLQJY7nW3"
      }
    },
    {
      "cell_type": "code",
      "source": [
        "n = int(input())\n",
        "for i in range(n):\n",
        "  for j in range(i,n):\n",
        "    if(i==0 or j==i or j==n-1):\n",
        "      print(\"*\", end=\" \")\n",
        "    else:\n",
        "      print(\" \", end=\" \")\n",
        "\n",
        "  print()"
      ],
      "metadata": {
        "colab": {
          "base_uri": "https://localhost:8080/"
        },
        "id": "f0zu6I2p7uhs",
        "outputId": "d74cbd3c-60fa-49c2-9797-9b0072421084"
      },
      "execution_count": null,
      "outputs": [
        {
          "output_type": "stream",
          "name": "stdout",
          "text": [
            "5\n",
            "* * * * * \n",
            "*     * \n",
            "*   * \n",
            "* * \n",
            "* \n"
          ]
        }
      ]
    },
    {
      "cell_type": "markdown",
      "source": [
        "# **Hallow Left Triangle Pattern**"
      ],
      "metadata": {
        "id": "2wxJ4lW4T4m2"
      }
    },
    {
      "cell_type": "code",
      "source": [
        "n=int(input())\n",
        "for i in range(n):\n",
        "  for j in range(i+1):\n",
        "    print(\" \",end=\" \")\n",
        "  for j in range(i,n):\n",
        "    if(i==0 or j==i or j== n-1):\n",
        "      print(\"*\",end=\" \")\n",
        "    else:\n",
        "      print(\" \", end=\" \")\n",
        "  print()"
      ],
      "metadata": {
        "colab": {
          "base_uri": "https://localhost:8080/"
        },
        "id": "a1lCt1L-TvQQ",
        "outputId": "4c9b542b-3bf1-42fe-91b5-d3a8b21cb47d"
      },
      "execution_count": null,
      "outputs": [
        {
          "output_type": "stream",
          "name": "stdout",
          "text": [
            "5\n",
            "  * * * * * \n",
            "    *     * \n",
            "      *   * \n",
            "        * * \n",
            "          * \n"
          ]
        }
      ]
    },
    {
      "cell_type": "markdown",
      "source": [
        "# **Hallow Right Triangle**"
      ],
      "metadata": {
        "id": "4H5DcriqVpSI"
      }
    },
    {
      "cell_type": "code",
      "source": [
        "n= int(input())\n",
        "for i in range(n):\n",
        "  for j in range(i,n):\n",
        "    print(\" \", end=\" \")\n",
        "  for j in range(i+1):\n",
        "    if (i==n-1 or j== 0 or j==i):\n",
        "      print(\"*\", end=\" \")\n",
        "    else:\n",
        "      print(\" \", end=\" \")\n",
        "  print()"
      ],
      "metadata": {
        "colab": {
          "base_uri": "https://localhost:8080/"
        },
        "id": "x3xSOARwVt1I",
        "outputId": "78455c91-c402-4dc4-fb78-46ee7128b9f5"
      },
      "execution_count": null,
      "outputs": [
        {
          "output_type": "stream",
          "name": "stdout",
          "text": [
            "5\n",
            "          * \n",
            "        * * \n",
            "      *   * \n",
            "    *     * \n",
            "  * * * * * \n"
          ]
        }
      ]
    },
    {
      "cell_type": "markdown",
      "source": [
        "# **Hallow Hill Pattern**"
      ],
      "metadata": {
        "id": "3C-CuVkYWcNg"
      }
    },
    {
      "cell_type": "code",
      "source": [
        "n= int(input())\n",
        "for i in range(n):\n",
        "  for j in range(i,n):\n",
        "    print(\"\", end=\" \")\n",
        "  for j in range(i+1):\n",
        "    if(i==n-1 or j==0 or j==i):\n",
        "      print(\"*\", end=\" \")\n",
        "    else:\n",
        "      print(\" \", end= \" \")\n",
        "  print()\n"
      ],
      "metadata": {
        "colab": {
          "base_uri": "https://localhost:8080/"
        },
        "id": "2RG4oRmjWgV1",
        "outputId": "1ca6e537-36e3-46ff-c10d-e385fc101f41"
      },
      "execution_count": null,
      "outputs": [
        {
          "output_type": "stream",
          "name": "stdout",
          "text": [
            "5\n",
            "     * \n",
            "    * * \n",
            "   *   * \n",
            "  *     * \n",
            " * * * * * \n"
          ]
        }
      ]
    },
    {
      "cell_type": "markdown",
      "source": [
        "# **Hallow Hill Pattern**"
      ],
      "metadata": {
        "id": "mOeetf82YYbd"
      }
    },
    {
      "cell_type": "code",
      "source": [
        "n=int(input())\n",
        "for i in range(n):\n",
        "  \n",
        "  for j in range(i,n):\n",
        "    print(\" \",end=\" \")\n",
        "  \n",
        "  for j in range(i):\n",
        "    if(i==n-1 or j==0):\n",
        "      print(\"*\", end=\" \")\n",
        "    else:\n",
        "      print(\" \", end=\" \")\n",
        "  \n",
        "  for j in range(i+1):\n",
        "    if(i==n-1 or j==i):\n",
        "      print(\"*\", end=\" \")\n",
        "    else:\n",
        "      print(\" \", end=\" \")\n",
        "\n",
        "    \n",
        "  print()"
      ],
      "metadata": {
        "colab": {
          "base_uri": "https://localhost:8080/"
        },
        "id": "98hMwlhlYUsm",
        "outputId": "eabbc322-457a-4bf8-9f2d-d0be4a896b65"
      },
      "execution_count": null,
      "outputs": [
        {
          "output_type": "stream",
          "name": "stdout",
          "text": [
            "5\n",
            "          * \n",
            "        *   * \n",
            "      *       * \n",
            "    *           * \n",
            "  * * * * * * * * * \n"
          ]
        }
      ]
    },
    {
      "cell_type": "markdown",
      "source": [
        "# **Hallow Reverse Hill Pattern**"
      ],
      "metadata": {
        "id": "UyXKuWoBa0JP"
      }
    },
    {
      "cell_type": "code",
      "source": [
        "n=int(input())\n",
        "for i in range(n):\n",
        "  for j in range(i+1):\n",
        "    print(\" \",end=\" \")\n",
        "\n",
        "  for j in range (i,n-1):\n",
        "    if(i==0 or j==i):\n",
        "      print(\"*\", end= \" \")\n",
        "    else:\n",
        "      print(\" \", end=\" \")\n",
        "\n",
        "  for j in range(i,n):\n",
        "    if(i==0 or j==n-1):\n",
        "      print(\"*\",end=\" \")\n",
        "    else:\n",
        "      print(\" \", end=\" \")\n",
        "\n",
        "  print()"
      ],
      "metadata": {
        "colab": {
          "base_uri": "https://localhost:8080/"
        },
        "id": "-J-ohNVOa4BJ",
        "outputId": "eeb34ce0-1c75-40f3-bcf1-774c442cf304"
      },
      "execution_count": null,
      "outputs": [
        {
          "output_type": "stream",
          "name": "stdout",
          "text": [
            "5\n",
            "  * * * * * * * * * \n",
            "    *           * \n",
            "      *       * \n",
            "        *   * \n",
            "          * \n"
          ]
        }
      ]
    },
    {
      "cell_type": "markdown",
      "source": [
        "# **Hallow Diamond Pattern**"
      ],
      "metadata": {
        "id": "YxZ1PE5ecCOH"
      }
    },
    {
      "cell_type": "code",
      "source": [
        "n=int(input())\n",
        "for i in range(n-1):\n",
        "  for j in range(i,n):\n",
        "    print(\" \", end=\" \")\n",
        "\n",
        "  for j in range(i):\n",
        "    if (i==n-1 or j== 0):\n",
        "      print(\"*\", end=\" \")\n",
        "    else:\n",
        "      print(\" \", end=\" \")\n",
        "\n",
        "  for j in range(i+1):\n",
        "    if(i==n-1 or j== i):\n",
        "      print(\"*\", end=\" \")\n",
        "    else:\n",
        "      print(\" \", end=\" \")\n",
        "\n",
        "  print()\n",
        "\n",
        "for i in range(n):\n",
        "  for j in range(i+1):\n",
        "    print(\" \",end=\" \")\n",
        "\n",
        "  for j in range (i,n-1):\n",
        "    if(j==i):\n",
        "      print(\"*\", end= \" \")\n",
        "    else:\n",
        "      print(\" \", end=\" \")\n",
        "\n",
        "  for j in range(i,n):\n",
        "    if(j==n-1):\n",
        "      print(\"*\",end=\" \")\n",
        "    else:\n",
        "      print(\" \", end=\" \")\n",
        "\n",
        "  print()"
      ],
      "metadata": {
        "colab": {
          "base_uri": "https://localhost:8080/"
        },
        "id": "kUpNd4Uibxjl",
        "outputId": "f6e93991-f660-4ac7-cce4-7695fbcffe23"
      },
      "execution_count": null,
      "outputs": [
        {
          "output_type": "stream",
          "name": "stdout",
          "text": [
            "5\n",
            "          * \n",
            "        *   * \n",
            "      *       * \n",
            "    *           * \n",
            "  *               * \n",
            "    *           * \n",
            "      *       * \n",
            "        *   * \n",
            "          * \n"
          ]
        }
      ]
    },
    {
      "cell_type": "markdown",
      "source": [
        "# **Hallow Left Paskals Triangle**"
      ],
      "metadata": {
        "id": "96K2n9nqcBNU"
      }
    },
    {
      "cell_type": "code",
      "source": [
        "n=int(input())\n",
        "for i in range(n-1):\n",
        "  for j in range(i+1):\n",
        "    if(j==i or j==0):\n",
        "      print(\"*\",end=\" \")\n",
        "    else:\n",
        "      print(\" \", end=\" \")\n",
        "  print()\n",
        "\n",
        "for i in range(n):\n",
        "  for j in range(i,n):\n",
        "    if (j==n-1 or j== i):\n",
        "      print(\"*\",end=\" \")\n",
        "    else:\n",
        "      print(\" \", end=\" \")\n",
        "  print()"
      ],
      "metadata": {
        "colab": {
          "base_uri": "https://localhost:8080/"
        },
        "id": "WU0F44o-l17j",
        "outputId": "68fefc2f-8227-4016-8868-c75e1b3f4748"
      },
      "execution_count": null,
      "outputs": [
        {
          "output_type": "stream",
          "name": "stdout",
          "text": [
            "5\n",
            "* \n",
            "* * \n",
            "*   * \n",
            "*     * \n",
            "*       * \n",
            "*     * \n",
            "*   * \n",
            "* * \n",
            "* \n"
          ]
        }
      ]
    },
    {
      "cell_type": "markdown",
      "source": [
        "# **Hallow Right Paskal's Triangle**"
      ],
      "metadata": {
        "id": "QyA3A4w7oi06"
      }
    },
    {
      "cell_type": "code",
      "source": [
        "n=int(input())\n",
        "for i in range(n-1):\n",
        "  for j in range (i,n):\n",
        "    print(\" \",end=\" \")\n",
        "    \n",
        "  for j in range(i+1):\n",
        "    if(j==0 or j==i):\n",
        "      print(\"*\",end=\" \")\n",
        "    else:\n",
        "      print(\" \",end=\" \")\n",
        "  print()\n",
        "\n",
        "for i in range(n):\n",
        "  for j in range(i+1):\n",
        "    print(\" \",end=\" \")\n",
        "\n",
        "  for j in range(i,n):\n",
        "    if(j==i or j==n-1):\n",
        "      print(\"*\",end=\" \")\n",
        "    else:\n",
        "      print(\" \", end=\" \")\n",
        "  print()\n",
        "\n"
      ],
      "metadata": {
        "colab": {
          "base_uri": "https://localhost:8080/"
        },
        "id": "SGbKj5HZoiba",
        "outputId": "cc851ade-5b45-47b4-98cc-4953a7f3d58b"
      },
      "execution_count": null,
      "outputs": [
        {
          "output_type": "stream",
          "name": "stdout",
          "text": [
            "5\n",
            "          * \n",
            "        * * \n",
            "      *   * \n",
            "    *     * \n",
            "  *       * \n",
            "    *     * \n",
            "      *   * \n",
            "        * * \n",
            "          * \n"
          ]
        }
      ]
    },
    {
      "cell_type": "markdown",
      "source": [
        "# **Hallow Sand Glass**"
      ],
      "metadata": {
        "id": "pU7vv_4aqdXT"
      }
    },
    {
      "cell_type": "code",
      "source": [
        "n=int(input())\n",
        "for i in range(n-1):\n",
        "\n",
        "  for j in range(i+1):\n",
        "    print(\" \",end=\" \")\n",
        "  \n",
        "  for j in range(i,n-1):\n",
        "    if(i==0 or j==i):\n",
        "      print(\"*\",end=\" \")\n",
        "    else:\n",
        "      print(\" \",end=\" \")\n",
        "  \n",
        "  for j in range(i,n):\n",
        "    if(i==0 or j==n-1):\n",
        "      print(\"*\", end=\" \")\n",
        "    else:\n",
        "      print(\" \",end=\" \")\n",
        "  \n",
        "  print()\n",
        "\n",
        "for i in range(n):\n",
        "\n",
        "  for j in range(i,n):\n",
        "    print(\" \",end=\" \")\n",
        "  \n",
        "  for j in range(i):\n",
        "    if(i==n-1 or j== 0):\n",
        "      print(\"*\",end=\" \")\n",
        "    else:\n",
        "      print(\" \", end=\" \")\n",
        "  \n",
        "  for j in range(i+1):\n",
        "    if(i==n-1 or j==i):\n",
        "      print(\"*\", end=\" \")\n",
        "    else:\n",
        "      print(\" \", end=\" \")\n",
        "  \n",
        "  print()"
      ],
      "metadata": {
        "colab": {
          "base_uri": "https://localhost:8080/"
        },
        "id": "0OxZCAyYqhta",
        "outputId": "421fbd51-ab6d-454c-b920-200a4900ddfe"
      },
      "execution_count": null,
      "outputs": [
        {
          "output_type": "stream",
          "name": "stdout",
          "text": [
            "5\n",
            "  * * * * * * * * * \n",
            "    *           * \n",
            "      *       * \n",
            "        *   * \n",
            "          * \n",
            "        *   * \n",
            "      *       * \n",
            "    *           * \n",
            "  * * * * * * * * * \n"
          ]
        }
      ]
    },
    {
      "cell_type": "markdown",
      "source": [
        "# **Hallow Butterfly Pattern**"
      ],
      "metadata": {
        "id": "I8uGfiWctOM3"
      }
    },
    {
      "cell_type": "code",
      "source": [
        "n=int(input())\n",
        "\n",
        "for i in range(n-1):\n",
        "  for j in range(i+1):\n",
        "    if(j==0 or j==i):\n",
        "      print(\"*\",end=\" \")\n",
        "    else:\n",
        "      print(\" \",end=\" \")\n",
        "\n",
        "  for j in range(i,n-1):\n",
        "    print(\" \", end=\" \")\n",
        "\n",
        "  for j in range(i,n):\n",
        "    print(\" \",end=\" \")\n",
        "\n",
        "  for j in range(i+1):\n",
        "    if(j==0 or j==i):\n",
        "      print(\"*\",end=\" \")\n",
        "    else:\n",
        "      print(\" \",end=\" \")\n",
        "  \n",
        "  print()\n",
        "\n",
        "for i in range(n):\n",
        "  for j in range(i,n):\n",
        "    if(j==i or j==n-1):\n",
        "      print(\"*\",end=\" \")\n",
        "    else:\n",
        "      print(\" \",end=\" \")\n",
        "  \n",
        "  for j in range(i):\n",
        "    print(\" \",end=\" \")\n",
        "\n",
        "  for j in range(i+1):\n",
        "    print(\" \", end=\" \")\n",
        "\n",
        "  for j in range(i,n):\n",
        "    if(j==i or j==n-1):\n",
        "      print(\"*\",end=\" \")\n",
        "    else:\n",
        "      print(\" \", end=\" \")\n",
        "\n",
        "  print()\n",
        "\n"
      ],
      "metadata": {
        "colab": {
          "base_uri": "https://localhost:8080/"
        },
        "id": "OV0BKkCstNHp",
        "outputId": "dc4b3229-f44b-4b5a-fc68-d955a469eeac"
      },
      "execution_count": null,
      "outputs": [
        {
          "output_type": "stream",
          "name": "stdout",
          "text": [
            "5\n",
            "*                   * \n",
            "* *               * * \n",
            "*   *           *   * \n",
            "*     *       *     * \n",
            "*       *   *       * \n",
            "*     *       *     * \n",
            "*   *           *   * \n",
            "* *               * * \n",
            "*                   * \n"
          ]
        }
      ]
    }
  ]
}
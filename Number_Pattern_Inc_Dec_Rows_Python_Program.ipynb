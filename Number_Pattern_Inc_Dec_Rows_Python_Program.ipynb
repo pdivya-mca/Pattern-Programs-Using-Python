{
  "nbformat": 4,
  "nbformat_minor": 0,
  "metadata": {
    "colab": {
      "provenance": [],
      "authorship_tag": "ABX9TyNwzdK1WUv+hWo1YwyNL+LN",
      "include_colab_link": true
    },
    "kernelspec": {
      "name": "python3",
      "display_name": "Python 3"
    },
    "language_info": {
      "name": "python"
    }
  },
  "cells": [
    {
      "cell_type": "markdown",
      "metadata": {
        "id": "view-in-github",
        "colab_type": "text"
      },
      "source": [
        "<a href=\"https://colab.research.google.com/github/pdivya-mca/Pattern-Programs-Using-Python/blob/main/Number_Pattern_Inc_Dec_Rows_Python_Program.ipynb\" target=\"_parent\"><img src=\"https://colab.research.google.com/assets/colab-badge.svg\" alt=\"Open In Colab\"/></a>"
      ]
    },
    {
      "cell_type": "markdown",
      "source": [
        "# **Number Pattern Programs -- Increasing Rows**"
      ],
      "metadata": {
        "id": "8sIcke7iAKHy"
      }
    },
    {
      "cell_type": "markdown",
      "source": [
        "# **Increasing Triangle -- Incrementing Rows**"
      ],
      "metadata": {
        "id": "E80Q1pbjJ30y"
      }
    },
    {
      "cell_type": "code",
      "execution_count": null,
      "metadata": {
        "colab": {
          "base_uri": "https://localhost:8080/"
        },
        "id": "cRvW3dxSJcfZ",
        "outputId": "c3ba5abb-ecde-40bd-c104-4f311fb3664d"
      },
      "outputs": [
        {
          "output_type": "stream",
          "name": "stdout",
          "text": [
            "5\n",
            "1 \n",
            "2 2 \n",
            "3 3 3 \n",
            "4 4 4 4 \n",
            "5 5 5 5 5 \n"
          ]
        }
      ],
      "source": [
        "n=int(input())\n",
        "p=1\n",
        "for i in range(n): #rows\n",
        "  for j in range(i+1): #cols\n",
        "    print(p,end=\" \")\n",
        "  p=p+1\n",
        "  print() # after 1 row print in new line"
      ]
    },
    {
      "cell_type": "markdown",
      "source": [
        "# **Increasing Triangle -- Floyd Triangle**"
      ],
      "metadata": {
        "id": "TdOZ1DAMK0jZ"
      }
    },
    {
      "cell_type": "code",
      "source": [
        "n=int(input())\n",
        "p=1\n",
        "for i in range(n): #rows\n",
        "  for j in range(i+1): #cols\n",
        "    print( p,end=\" \")\n",
        "    p+=1\n",
        "  print() # after 1 row print in new line\n"
      ],
      "metadata": {
        "colab": {
          "base_uri": "https://localhost:8080/"
        },
        "id": "wpCve8ddK8b6",
        "outputId": "262cf618-5ee9-4189-e32a-db77bcf04bad"
      },
      "execution_count": null,
      "outputs": [
        {
          "output_type": "stream",
          "name": "stdout",
          "text": [
            "5\n",
            "0  \n",
            "1  2  \n",
            "3  4  5  \n",
            "6  7  8  9  \n",
            "10  11  12  13  14  \n"
          ]
        }
      ]
    },
    {
      "cell_type": "markdown",
      "source": [
        "# **Decreasing Triangle -- Incremanting Rows**"
      ],
      "metadata": {
        "id": "wr-RXFvnKTWo"
      }
    },
    {
      "cell_type": "code",
      "source": [
        "n=int(input())\n",
        "p=n\n",
        "for i in range(n):\n",
        "  for j in range(i,n):\n",
        "    print(p,end=\" \")\n",
        "  p-=1\n",
        "  print()"
      ],
      "metadata": {
        "colab": {
          "base_uri": "https://localhost:8080/"
        },
        "id": "lX9VoYFQKYkA",
        "outputId": "785adbc0-3c76-4c8a-ba5e-d3a484e1a173"
      },
      "execution_count": null,
      "outputs": [
        {
          "output_type": "stream",
          "name": "stdout",
          "text": [
            "5\n",
            "5 5 5 5 5 \n",
            "4 4 4 4 \n",
            "3 3 3 \n",
            "2 2 \n",
            "1 \n"
          ]
        }
      ]
    },
    {
      "cell_type": "markdown",
      "source": [
        "# **Left Triangle -- Increment Rows**"
      ],
      "metadata": {
        "id": "SWWsq_TELwIb"
      }
    },
    {
      "cell_type": "code",
      "source": [
        "n=int(input())\n",
        "p=1\n",
        "for i in range(n):\n",
        "  for j in range(i,n):\n",
        "    print(\" \",end=\" \")\n",
        "\n",
        "  for j in range(i+1):\n",
        "    print (p,end=\" \")\n",
        "  p=p+1\n",
        "  print()"
      ],
      "metadata": {
        "colab": {
          "base_uri": "https://localhost:8080/"
        },
        "id": "xZQx0dhTL2sQ",
        "outputId": "dc7e3b5f-5bc9-43f4-ef66-56d89239359b"
      },
      "execution_count": null,
      "outputs": [
        {
          "output_type": "stream",
          "name": "stdout",
          "text": [
            "5\n",
            "          1 \n",
            "        2 2 \n",
            "      3 3 3 \n",
            "    4 4 4 4 \n",
            "  5 5 5 5 5 \n"
          ]
        }
      ]
    },
    {
      "cell_type": "markdown",
      "source": [
        "# **Left Triangle - Decrementing Rows**"
      ],
      "metadata": {
        "id": "ZGCSn0ulMqLw"
      }
    },
    {
      "cell_type": "code",
      "source": [
        "n=int(input())\n",
        "p=n\n",
        "for i in range(n):\n",
        "  for j in range(i,n):\n",
        "    print(\" \",end=\" \")\n",
        "\n",
        "  for j in range(i+1):\n",
        "    print (p,end=\" \")\n",
        "  p=p-1\n",
        "  print()"
      ],
      "metadata": {
        "colab": {
          "base_uri": "https://localhost:8080/"
        },
        "id": "OWyafj7sMnvH",
        "outputId": "baae1ff1-ae8c-4d80-e606-6b22488b3f28"
      },
      "execution_count": null,
      "outputs": [
        {
          "output_type": "stream",
          "name": "stdout",
          "text": [
            "5\n",
            "          5 \n",
            "        4 4 \n",
            "      3 3 3 \n",
            "    2 2 2 2 \n",
            "  1 1 1 1 1 \n"
          ]
        }
      ]
    },
    {
      "cell_type": "markdown",
      "source": [
        "# **Right Sided Triangle -- Incrementing Rows**"
      ],
      "metadata": {
        "id": "xIVLVcT4MMFZ"
      }
    },
    {
      "cell_type": "code",
      "source": [
        "n=int(input())\n",
        "p=1\n",
        "for i in range(n):\n",
        "  for j in range(i+1):\n",
        "    print(\" \",end=\" \")\n",
        "\n",
        "  for j in range (i,n):\n",
        "    print(p, end=\" \")\n",
        "  p=p+1\n",
        "  \n",
        "  print()"
      ],
      "metadata": {
        "colab": {
          "base_uri": "https://localhost:8080/"
        },
        "id": "HdUywtFnMQ8I",
        "outputId": "b103f75f-1d99-4176-ae38-6bc44b4a5c00"
      },
      "execution_count": null,
      "outputs": [
        {
          "output_type": "stream",
          "name": "stdout",
          "text": [
            "5\n",
            "  1 1 1 1 1 \n",
            "    2 2 2 2 \n",
            "      3 3 3 \n",
            "        4 4 \n",
            "          5 \n"
          ]
        }
      ]
    },
    {
      "cell_type": "markdown",
      "source": [
        "# **Right Sided Triangle -- Decrementing Rows**"
      ],
      "metadata": {
        "id": "k3PRMYBJM36w"
      }
    },
    {
      "cell_type": "code",
      "source": [
        "n=int(input())\n",
        "p=n\n",
        "for i in range(n):\n",
        "  for j in range(i+1):\n",
        "    print(\" \",end=\" \")\n",
        "\n",
        "  for j in range (i,n):\n",
        "    print(p, end=\" \")\n",
        "  p=p-1\n",
        "  \n",
        "  print()"
      ],
      "metadata": {
        "colab": {
          "base_uri": "https://localhost:8080/"
        },
        "id": "i0Kh-nQVM_bA",
        "outputId": "6f9fdf1b-3c17-4ab8-fc27-af965aee6bd6"
      },
      "execution_count": null,
      "outputs": [
        {
          "output_type": "stream",
          "name": "stdout",
          "text": [
            "5\n",
            "  5 5 5 5 5 \n",
            "    4 4 4 4 \n",
            "      3 3 3 \n",
            "        2 2 \n",
            "          1 \n"
          ]
        }
      ]
    },
    {
      "cell_type": "markdown",
      "source": [
        "# **Hill Pattern -- Strainght Line -- Incrementing Rows**"
      ],
      "metadata": {
        "id": "hdRTMUVnNJ9S"
      }
    },
    {
      "cell_type": "code",
      "source": [
        "n=int(input())\n",
        "p=1\n",
        "for i in range(n):\n",
        "\n",
        "  for j in range(i,n):\n",
        "    print(\" \",end=\" \")\n",
        "\n",
        "  for j in range (i):\n",
        "    print(p,end=\" \")\n",
        "\n",
        "  for j in range (i+1):\n",
        "    print(p,end=\" \")\n",
        "  p=p+1\n",
        "\n",
        "  print()"
      ],
      "metadata": {
        "colab": {
          "base_uri": "https://localhost:8080/"
        },
        "id": "7-DxNQspNJha",
        "outputId": "b2687646-3467-4d56-aa54-db8633382bcd"
      },
      "execution_count": null,
      "outputs": [
        {
          "output_type": "stream",
          "name": "stdout",
          "text": [
            "5\n",
            "          1 \n",
            "        2 2 2 \n",
            "      3 3 3 3 3 \n",
            "    4 4 4 4 4 4 4 \n",
            "  5 5 5 5 5 5 5 5 5 \n"
          ]
        }
      ]
    },
    {
      "cell_type": "markdown",
      "source": [
        "# **Hill Pattern -- Strainght Line -- Decrementing Rows**"
      ],
      "metadata": {
        "id": "ruZm05CHN1tY"
      }
    },
    {
      "cell_type": "code",
      "source": [
        "n=int(input())\n",
        "p=n\n",
        "for i in range(n):\n",
        "\n",
        "  for j in range(i,n):\n",
        "    print(\" \",end=\" \")\n",
        "\n",
        "  for j in range (i):\n",
        "    print(p,end=\" \")\n",
        "\n",
        "  for j in range (i+1):\n",
        "    print(p,end=\" \")\n",
        "  p=p-1\n",
        "\n",
        "  print()"
      ],
      "metadata": {
        "colab": {
          "base_uri": "https://localhost:8080/"
        },
        "id": "GwNNO6jVNzzQ",
        "outputId": "19191a28-c93f-4474-e004-7fb7ea7db2fd"
      },
      "execution_count": null,
      "outputs": [
        {
          "output_type": "stream",
          "name": "stdout",
          "text": [
            "5\n",
            "          5 \n",
            "        4 4 4 \n",
            "      3 3 3 3 3 \n",
            "    2 2 2 2 2 2 2 \n",
            "  1 1 1 1 1 1 1 1 1 \n"
          ]
        }
      ]
    },
    {
      "cell_type": "markdown",
      "source": [
        "# **Hill Pattern -- Inbetween Numbers -- Incrementing Rows**"
      ],
      "metadata": {
        "id": "3ggjMSwWNnxQ"
      }
    },
    {
      "cell_type": "code",
      "source": [
        "n=int(input())\n",
        "p=1\n",
        "for i in range(n):\n",
        "\n",
        "  for j in range(i,n):\n",
        "    print(\"\",end=\" \")\n",
        "\n",
        "  for j in range (i+1):\n",
        "    print(p,end=\" \")\n",
        "  p=p+1\n",
        "\n",
        "  print()\n",
        "\n"
      ],
      "metadata": {
        "colab": {
          "base_uri": "https://localhost:8080/"
        },
        "id": "BDdtkfMyNeW4",
        "outputId": "2113d95f-fc76-4610-ac29-f0a8513994b5"
      },
      "execution_count": null,
      "outputs": [
        {
          "output_type": "stream",
          "name": "stdout",
          "text": [
            "5\n",
            "     1 \n",
            "    2 2 \n",
            "   3 3 3 \n",
            "  4 4 4 4 \n",
            " 5 5 5 5 5 \n"
          ]
        }
      ]
    },
    {
      "cell_type": "markdown",
      "source": [
        "# **Hill Pattern -- Inbetween Numbers -- Incrementing Rows**"
      ],
      "metadata": {
        "id": "IJmpvvyVOEKC"
      }
    },
    {
      "cell_type": "code",
      "source": [
        "n=int(input())\n",
        "p=n\n",
        "for i in range(n):\n",
        "\n",
        "  for j in range(i,n):\n",
        "    print(\"\",end=\" \")\n",
        "\n",
        "  for j in range (i+1):\n",
        "    print(p,end=\" \")\n",
        "  p=p-1\n",
        "\n",
        "  print()\n",
        "\n"
      ],
      "metadata": {
        "colab": {
          "base_uri": "https://localhost:8080/"
        },
        "id": "VumCsNcbOHkR",
        "outputId": "c8542b5d-be00-4087-f908-1c8276f7b9dc"
      },
      "execution_count": null,
      "outputs": [
        {
          "output_type": "stream",
          "name": "stdout",
          "text": [
            "5\n",
            "     5 \n",
            "    4 4 \n",
            "   3 3 3 \n",
            "  2 2 2 2 \n",
            " 1 1 1 1 1 \n"
          ]
        }
      ]
    },
    {
      "cell_type": "markdown",
      "source": [
        "# **Reverse Hill Pattern -- Increamenting Rows**"
      ],
      "metadata": {
        "id": "Gpds0f5xOPjo"
      }
    },
    {
      "cell_type": "code",
      "source": [
        "n=int(input())\n",
        "p=1\n",
        "for i in range(n):\n",
        "  for j in range(i+1):\n",
        "    print(\" \",end=\" \")\n",
        "\n",
        "  for j in range (i,n-1):\n",
        "    print(p, end= \" \")\n",
        "\n",
        "  for j in range(i,n):\n",
        "    print(p,end=\" \")\n",
        "  p+=1\n",
        "\n",
        "  print()"
      ],
      "metadata": {
        "colab": {
          "base_uri": "https://localhost:8080/"
        },
        "id": "UcVhKkMEOVIY",
        "outputId": "33e443e5-266d-42fe-ff6f-c923b80a68fb"
      },
      "execution_count": null,
      "outputs": [
        {
          "output_type": "stream",
          "name": "stdout",
          "text": [
            "5\n",
            "  1 1 1 1 1 1 1 1 1 \n",
            "    2 2 2 2 2 2 2 \n",
            "      3 3 3 3 3 \n",
            "        4 4 4 \n",
            "          5 \n"
          ]
        }
      ]
    },
    {
      "cell_type": "markdown",
      "source": [],
      "metadata": {
        "id": "PDaoYdWKOgSu"
      }
    },
    {
      "cell_type": "markdown",
      "source": [
        "# **Reverse Hill Pattern -- Decreamenting Rows**"
      ],
      "metadata": {
        "id": "cK6NxzKWOipY"
      }
    },
    {
      "cell_type": "code",
      "source": [
        "n=int(input())\n",
        "p=n\n",
        "for i in range(n):\n",
        "  for j in range(i+1):\n",
        "    print(\" \",end=\" \")\n",
        "\n",
        "  for j in range (i,n-1):\n",
        "    print(p, end= \" \")\n",
        "\n",
        "  for j in range(i,n):\n",
        "    print(p,end=\" \")\n",
        "  p-=1\n",
        "\n",
        "  print()"
      ],
      "metadata": {
        "colab": {
          "base_uri": "https://localhost:8080/"
        },
        "id": "1IFOZFJjOe8J",
        "outputId": "d298b5d9-7c24-47a3-93f0-ca10f7070824"
      },
      "execution_count": null,
      "outputs": [
        {
          "output_type": "stream",
          "name": "stdout",
          "text": [
            "5\n",
            "  5 5 5 5 5 5 5 5 5 \n",
            "    4 4 4 4 4 4 4 \n",
            "      3 3 3 3 3 \n",
            "        2 2 2 \n",
            "          1 \n"
          ]
        }
      ]
    },
    {
      "cell_type": "markdown",
      "source": [
        "# **Diamond Pattern -- Increamenting Rows**"
      ],
      "metadata": {
        "id": "oBXSdB0YPVBR"
      }
    },
    {
      "cell_type": "code",
      "source": [
        "n=int(input())\n",
        "p=1\n",
        "for i in range(n-1):\n",
        "\n",
        "  for j in range(i,n):\n",
        "    print(\" \",end=\" \")\n",
        "\n",
        "  for j in range (i):\n",
        "    print(p,end=\" \")\n",
        "\n",
        "  for j in range (i+1):\n",
        "    print(p,end=\" \")\n",
        "  p+=1\n",
        "  \n",
        "  print()\n",
        "\n",
        "for i in range(n):\n",
        "\n",
        "  for j in range(i+1):\n",
        "    print(\" \",end=\" \")\n",
        "\n",
        "  for j in range (i,n-1):\n",
        "    print(p, end= \" \")\n",
        "\n",
        "  for j in range(i,n):\n",
        "    print(p,end=\" \")\n",
        "  p+=1\n",
        "\n",
        "  print()"
      ],
      "metadata": {
        "colab": {
          "base_uri": "https://localhost:8080/"
        },
        "id": "SJOxutQOPRg_",
        "outputId": "62880f74-c729-42c3-fd8f-c5587be263bb"
      },
      "execution_count": null,
      "outputs": [
        {
          "output_type": "stream",
          "name": "stdout",
          "text": [
            "5\n",
            "          1 \n",
            "        2 2 2 \n",
            "      3 3 3 3 3 \n",
            "    4 4 4 4 4 4 4 \n",
            "  5 5 5 5 5 5 5 5 5 \n",
            "    6 6 6 6 6 6 6 \n",
            "      7 7 7 7 7 \n",
            "        8 8 8 \n",
            "          9 \n"
          ]
        }
      ]
    },
    {
      "cell_type": "markdown",
      "source": [
        "# **Diamond Pattern -- Increamenting Rows -after middle- Decrementing Rows**"
      ],
      "metadata": {
        "id": "1M6ZESGrPvwA"
      }
    },
    {
      "cell_type": "code",
      "source": [
        "n=int(input())\n",
        "p=1\n",
        "for i in range(n-1):\n",
        "\n",
        "  for j in range(i,n):\n",
        "    print(\" \",end=\" \")\n",
        "\n",
        "  for j in range (i):\n",
        "    print(p,end=\" \")\n",
        "\n",
        "  for j in range (i+1):\n",
        "    print(p,end=\" \")\n",
        "  p+=1\n",
        "  \n",
        "  print()\n",
        "\n",
        "for i in range(n):\n",
        "\n",
        "  for j in range(i+1):\n",
        "    print(\" \",end=\" \")\n",
        "\n",
        "  for j in range (i,n-1):\n",
        "    print(p, end= \" \")\n",
        "\n",
        "  for j in range(i,n):\n",
        "    print(p,end=\" \")\n",
        "  p-=1\n",
        "\n",
        "  print()"
      ],
      "metadata": {
        "colab": {
          "base_uri": "https://localhost:8080/"
        },
        "id": "b-N1Uuk3P8Tn",
        "outputId": "68ed07fc-89df-4000-a705-ccb8987466ce"
      },
      "execution_count": null,
      "outputs": [
        {
          "output_type": "stream",
          "name": "stdout",
          "text": [
            "5\n",
            "          1 \n",
            "        2 2 2 \n",
            "      3 3 3 3 3 \n",
            "    4 4 4 4 4 4 4 \n",
            "  5 5 5 5 5 5 5 5 5 \n",
            "    4 4 4 4 4 4 4 \n",
            "      3 3 3 3 3 \n",
            "        2 2 2 \n",
            "          1 \n"
          ]
        }
      ]
    },
    {
      "cell_type": "markdown",
      "source": [
        "# **Sandglass pattern -- Incrementing Rows**"
      ],
      "metadata": {
        "id": "gYJ8FEHjRCdg"
      }
    },
    {
      "cell_type": "code",
      "source": [
        "n=int(input())\n",
        "p=1\n",
        "for i in range(n-1):\n",
        "\n",
        "  for j in range(i+1):\n",
        "    print(\" \",end=\" \")\n",
        "  \n",
        "  for j in range(i,n-1):\n",
        "    print(p,end=\" \")\n",
        "  \n",
        "  for j in range(i,n):\n",
        "    print(p, end=\" \")\n",
        "  p+=1\n",
        "  \n",
        "  print()\n",
        "\n",
        "for i in range(n):\n",
        "\n",
        "  for j in range(i,n):\n",
        "    print(\" \",end=\" \")\n",
        "  \n",
        "  for j in range(i):\n",
        "    print(p,end=\" \")\n",
        "  \n",
        "  for j in range(i+1):\n",
        "    print(p, end=\" \")\n",
        "  p+=1\n",
        "  \n",
        "  print()"
      ],
      "metadata": {
        "colab": {
          "base_uri": "https://localhost:8080/"
        },
        "id": "EUgH8mTdRIAF",
        "outputId": "1ac71b0e-147a-45eb-feee-59f54d3e0fb5"
      },
      "execution_count": null,
      "outputs": [
        {
          "output_type": "stream",
          "name": "stdout",
          "text": [
            "5\n",
            "  1 1 1 1 1 1 1 1 1 \n",
            "    2 2 2 2 2 2 2 \n",
            "      3 3 3 3 3 \n",
            "        4 4 4 \n",
            "          5 \n",
            "        6 6 6 \n",
            "      7 7 7 7 7 \n",
            "    8 8 8 8 8 8 8 \n",
            "  9 9 9 9 9 9 9 9 9 \n"
          ]
        }
      ]
    },
    {
      "cell_type": "markdown",
      "source": [
        "# **Sandglass pattern -- Incrementing Rows -- After Middle -- Decrementing Rows**"
      ],
      "metadata": {
        "id": "G8MKQdCyRlvX"
      }
    },
    {
      "cell_type": "code",
      "source": [
        "n=int(input())\n",
        "p=1\n",
        "for i in range(n-1):\n",
        "\n",
        "  for j in range(i+1):\n",
        "    print(\" \",end=\" \")\n",
        "  \n",
        "  for j in range(i,n-1):\n",
        "    print(p,end=\" \")\n",
        "  \n",
        "  for j in range(i,n):\n",
        "    print(p, end=\" \")\n",
        "  p+=1\n",
        "  \n",
        "  print()\n",
        "\n",
        "for i in range(n):\n",
        "\n",
        "  for j in range(i,n):\n",
        "    print(\" \",end=\" \")\n",
        "  \n",
        "  for j in range(i):\n",
        "    print(p,end=\" \")\n",
        "  \n",
        "  for j in range(i+1):\n",
        "    print(p, end=\" \")\n",
        "  p-=1\n",
        "  \n",
        "  print()"
      ],
      "metadata": {
        "colab": {
          "base_uri": "https://localhost:8080/"
        },
        "id": "gGAX2qa9Re5v",
        "outputId": "4c43edf2-a526-44ad-f697-05e95fb6f855"
      },
      "execution_count": null,
      "outputs": [
        {
          "output_type": "stream",
          "name": "stdout",
          "text": [
            "5\n",
            "  1 1 1 1 1 1 1 1 1 \n",
            "    2 2 2 2 2 2 2 \n",
            "      3 3 3 3 3 \n",
            "        4 4 4 \n",
            "          5 \n",
            "        4 4 4 \n",
            "      3 3 3 3 3 \n",
            "    2 2 2 2 2 2 2 \n",
            "  1 1 1 1 1 1 1 1 1 \n"
          ]
        }
      ]
    },
    {
      "cell_type": "markdown",
      "source": [
        "# **Left Pascal's Triangle -- Incrementing Rows**"
      ],
      "metadata": {
        "id": "ho1cL9rwR-hH"
      }
    },
    {
      "cell_type": "code",
      "source": [
        "n=int(input())\n",
        "p=1\n",
        "for i in range(n-1):\n",
        "  for j in range(i+1):\n",
        "    print(p,end=\" \")\n",
        "  p+=1\n",
        "  print()\n",
        "\n",
        "for i in range(n):\n",
        "  for j in range(i,n):\n",
        "    print(p,end=\" \")\n",
        "  p+=1\n",
        "  print()"
      ],
      "metadata": {
        "colab": {
          "base_uri": "https://localhost:8080/"
        },
        "id": "QSfYVcfcRx5m",
        "outputId": "08b91fee-7fbd-4623-9c7d-97a0ca8ee1df"
      },
      "execution_count": null,
      "outputs": [
        {
          "output_type": "stream",
          "name": "stdout",
          "text": [
            "5\n",
            "1 \n",
            "2 2 \n",
            "3 3 3 \n",
            "4 4 4 4 \n",
            "5 5 5 5 5 \n",
            "6 6 6 6 \n",
            "7 7 7 \n",
            "8 8 \n",
            "9 \n"
          ]
        }
      ]
    },
    {
      "cell_type": "markdown",
      "source": [
        "# **Left Pascal's Triangle -- Incrementing Rows -- After Middle -- Decrementing Rows**"
      ],
      "metadata": {
        "id": "0axzLBnJSDlQ"
      }
    },
    {
      "cell_type": "code",
      "source": [
        "n=int(input())\n",
        "p=1\n",
        "for i in range(n-1):\n",
        "  for j in range(i+1):\n",
        "    print(p,end=\" \")\n",
        "  p+=1\n",
        "  print()\n",
        "\n",
        "for i in range(n):\n",
        "  for j in range(i,n):\n",
        "    print(p,end=\" \")\n",
        "  p-=1\n",
        "  print()"
      ],
      "metadata": {
        "colab": {
          "base_uri": "https://localhost:8080/"
        },
        "id": "Scn8YEE4SKL2",
        "outputId": "939b15b8-2da6-4951-e2c2-5be01babc856"
      },
      "execution_count": null,
      "outputs": [
        {
          "output_type": "stream",
          "name": "stdout",
          "text": [
            "5\n",
            "1 \n",
            "2 2 \n",
            "3 3 3 \n",
            "4 4 4 4 \n",
            "5 5 5 5 5 \n",
            "4 4 4 4 \n",
            "3 3 3 \n",
            "2 2 \n",
            "1 \n"
          ]
        }
      ]
    },
    {
      "cell_type": "markdown",
      "source": [
        "# **Right Pascal -- Incrementing Rows**"
      ],
      "metadata": {
        "id": "daTA4xemSq7_"
      }
    },
    {
      "cell_type": "code",
      "source": [
        "n=int(input())\n",
        "p=1\n",
        "for i in range(n-1):\n",
        "  for j in range (i,n):\n",
        "    print(\" \",end=\" \")\n",
        "    \n",
        "  for j in range(i+1):\n",
        "    print(p,end=\" \")\n",
        "  p+=1\n",
        "  print()\n",
        "\n",
        "for i in range(n):\n",
        "  for j in range(i+1):\n",
        "    print(\" \",end=\" \")\n",
        "\n",
        "  for j in range(i,n):\n",
        "    print(p,end=\" \")\n",
        "  p+=1\n",
        "  print()\n",
        "\n"
      ],
      "metadata": {
        "colab": {
          "base_uri": "https://localhost:8080/"
        },
        "id": "P7CGgV_qSxzs",
        "outputId": "b5c919c1-4d34-4c50-e732-dff3b813d2eb"
      },
      "execution_count": null,
      "outputs": [
        {
          "output_type": "stream",
          "name": "stdout",
          "text": [
            "5\n",
            "          1 \n",
            "        2 2 \n",
            "      3 3 3 \n",
            "    4 4 4 4 \n",
            "  5 5 5 5 5 \n",
            "    6 6 6 6 \n",
            "      7 7 7 \n",
            "        8 8 \n",
            "          9 \n"
          ]
        }
      ]
    },
    {
      "cell_type": "markdown",
      "source": [
        "# **Right Pascal -- Incrementing Rows -- After Middle -- Decrementing Rows**"
      ],
      "metadata": {
        "id": "2bhvVKGcS_gf"
      }
    },
    {
      "cell_type": "code",
      "source": [
        "n=int(input())\n",
        "p=1\n",
        "for i in range(n-1):\n",
        "  for j in range (i,n):\n",
        "    print(\" \",end=\" \")\n",
        "    \n",
        "  for j in range(i+1):\n",
        "    print(p,end=\" \")\n",
        "  p+=1\n",
        "  print()\n",
        "\n",
        "for i in range(n):\n",
        "  for j in range(i+1):\n",
        "    print(\" \",end=\" \")\n",
        "\n",
        "  for j in range(i,n):\n",
        "    print(p,end=\" \")\n",
        "  p-=1\n",
        "  print()\n",
        "\n"
      ],
      "metadata": {
        "colab": {
          "base_uri": "https://localhost:8080/"
        },
        "id": "JzaISPT0TEcB",
        "outputId": "92c18dda-9cc8-48d4-cd4d-4e865c5e3ad2"
      },
      "execution_count": null,
      "outputs": [
        {
          "output_type": "stream",
          "name": "stdout",
          "text": [
            "5\n",
            "          1 \n",
            "        2 2 \n",
            "      3 3 3 \n",
            "    4 4 4 4 \n",
            "  5 5 5 5 5 \n",
            "    4 4 4 4 \n",
            "      3 3 3 \n",
            "        2 2 \n",
            "          1 \n"
          ]
        }
      ]
    },
    {
      "cell_type": "markdown",
      "source": [
        "# **Butterfly -- Incrementing Rows**"
      ],
      "metadata": {
        "id": "gd-8JCEJTr_l"
      }
    },
    {
      "cell_type": "code",
      "source": [
        "n=int(input())\n",
        "p=1\n",
        "\n",
        "for i in range(n-1):\n",
        "  for j in range(i+1):\n",
        "    print(p,end=\" \")\n",
        "\n",
        "  for j in range(i,n-1):\n",
        "    print(\" \", end=\" \")\n",
        "\n",
        "  for j in range(i,n):\n",
        "    print(\" \",end=\" \")\n",
        "\n",
        "  for j in range(i+1):\n",
        "    print(p,end=\" \")\n",
        "  p+=1\n",
        "  \n",
        "  print()\n",
        "\n",
        "for i in range(n):\n",
        "  for j in range(i,n):\n",
        "    print(p,end=\" \")\n",
        "  \n",
        "  for j in range(i):\n",
        "    print(\" \",end=\" \")\n",
        "\n",
        "  for j in range(i+1):\n",
        "    print(\" \", end=\" \")\n",
        "\n",
        "  for j in range(i,n):\n",
        "    print(p,end=\" \")\n",
        "  p+=1\n",
        "\n",
        "  print()\n",
        "\n"
      ],
      "metadata": {
        "colab": {
          "base_uri": "https://localhost:8080/"
        },
        "id": "o35EK5UgTbEf",
        "outputId": "0d05b12b-e167-4878-c75a-58f17ba0a4be"
      },
      "execution_count": null,
      "outputs": [
        {
          "output_type": "stream",
          "name": "stdout",
          "text": [
            "5\n",
            "1                   1 \n",
            "2 2               2 2 \n",
            "3 3 3           3 3 3 \n",
            "4 4 4 4       4 4 4 4 \n",
            "5 5 5 5 5   5 5 5 5 5 \n",
            "6 6 6 6       6 6 6 6 \n",
            "7 7 7           7 7 7 \n",
            "8 8               8 8 \n",
            "9                   9 \n"
          ]
        }
      ]
    },
    {
      "cell_type": "markdown",
      "source": [
        "# **Butterfly -- Incrementing Rows -- After Middle -- Decrementing Rows**"
      ],
      "metadata": {
        "id": "mMtbNJsiT562"
      }
    },
    {
      "cell_type": "code",
      "source": [
        "n=int(input())\n",
        "p=1\n",
        "\n",
        "for i in range(n-1):\n",
        "  for j in range(i+1):\n",
        "    print(p,end=\" \")\n",
        "\n",
        "  for j in range(i,n-1):\n",
        "    print(\" \", end=\" \")\n",
        "\n",
        "  for j in range(i,n):\n",
        "    print(\" \",end=\" \")\n",
        "\n",
        "  for j in range(i+1):\n",
        "    print(p,end=\" \")\n",
        "  p+=1\n",
        "  \n",
        "  print()\n",
        "\n",
        "for i in range(n):\n",
        "  for j in range(i,n):\n",
        "    print(p,end=\" \")\n",
        "  \n",
        "  for j in range(i):\n",
        "    print(\" \",end=\" \")\n",
        "\n",
        "  for j in range(i+1):\n",
        "    print(\" \", end=\" \")\n",
        "\n",
        "  for j in range(i,n):\n",
        "    print(p,end=\" \")\n",
        "  p-=1\n",
        "\n",
        "  print()\n",
        "\n"
      ],
      "metadata": {
        "colab": {
          "base_uri": "https://localhost:8080/"
        },
        "id": "mXZcLnopTztG",
        "outputId": "79396883-0fa9-4531-e0f2-4d32ed82d2fc"
      },
      "execution_count": null,
      "outputs": [
        {
          "output_type": "stream",
          "name": "stdout",
          "text": [
            "5\n",
            "1                   1 \n",
            "2 2               2 2 \n",
            "3 3 3           3 3 3 \n",
            "4 4 4 4       4 4 4 4 \n",
            "5 5 5 5 5   5 5 5 5 5 \n",
            "4 4 4 4       4 4 4 4 \n",
            "3 3 3           3 3 3 \n",
            "2 2               2 2 \n",
            "1                   1 \n"
          ]
        }
      ]
    }
  ]
}
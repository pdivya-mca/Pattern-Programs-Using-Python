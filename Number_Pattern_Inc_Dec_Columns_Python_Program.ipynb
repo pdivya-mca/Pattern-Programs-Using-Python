{
  "nbformat": 4,
  "nbformat_minor": 0,
  "metadata": {
    "colab": {
      "provenance": [],
      "authorship_tag": "ABX9TyMp3e7A8i6/DSeaSm6zsq+/",
      "include_colab_link": true
    },
    "kernelspec": {
      "name": "python3",
      "display_name": "Python 3"
    },
    "language_info": {
      "name": "python"
    }
  },
  "cells": [
    {
      "cell_type": "markdown",
      "metadata": {
        "id": "view-in-github",
        "colab_type": "text"
      },
      "source": [
        "<a href=\"https://colab.research.google.com/github/pdivya-mca/Pattern-Programs-Using-Python/blob/main/Number_Pattern_Inc_Dec_Columns_Python_Program.ipynb\" target=\"_parent\"><img src=\"https://colab.research.google.com/assets/colab-badge.svg\" alt=\"Open In Colab\"/></a>"
      ]
    },
    {
      "cell_type": "markdown",
      "source": [
        "# **Increasing Triangle -- Incrementing Columns -- Starting Value Same**"
      ],
      "metadata": {
        "id": "7Ee6r7FfVOeQ"
      }
    },
    {
      "cell_type": "code",
      "execution_count": null,
      "metadata": {
        "colab": {
          "base_uri": "https://localhost:8080/"
        },
        "id": "8CiP3E3oVHgN",
        "outputId": "9d5d3f20-6771-4470-eda6-e376f6e2885d"
      },
      "outputs": [
        {
          "output_type": "stream",
          "name": "stdout",
          "text": [
            "5\n",
            "1 \n",
            "1 2 \n",
            "1 2 3 \n",
            "1 2 3 4 \n",
            "1 2 3 4 5 \n"
          ]
        }
      ],
      "source": [
        "n=int(input())\n",
        "\n",
        "for i in range(n): #rows\n",
        "  p=1\n",
        "  for j in range(i+1): #cols\n",
        "    print(p,end=\" \")\n",
        "    p=p+1\n",
        "  print() # after 1 row print in new line"
      ]
    },
    {
      "cell_type": "markdown",
      "source": [
        "# **Increasing Triangle -- Decrementing Columns -- Starting Value Same**"
      ],
      "metadata": {
        "id": "ArTZocwpWyy-"
      }
    },
    {
      "cell_type": "code",
      "source": [
        "n=int(input())\n",
        "\n",
        "for i in range(n): #rows\n",
        "  p=n\n",
        "  for j in range(i+1): #cols\n",
        "    print(p,end=\" \")\n",
        "    p=p-1\n",
        "  print() # after 1 row print in new line"
      ],
      "metadata": {
        "colab": {
          "base_uri": "https://localhost:8080/"
        },
        "id": "RZMup-qVWiZ5",
        "outputId": "1ee7dcb1-7d90-4e79-e399-b5bd1c30b837"
      },
      "execution_count": null,
      "outputs": [
        {
          "output_type": "stream",
          "name": "stdout",
          "text": [
            "5\n",
            "5 \n",
            "5 4 \n",
            "5 4 3 \n",
            "5 4 3 2 \n",
            "5 4 3 2 1 \n"
          ]
        }
      ]
    },
    {
      "cell_type": "markdown",
      "source": [
        "# **Left Triangle -- Increment Columns**"
      ],
      "metadata": {
        "id": "C74MvC0TXJcF"
      }
    },
    {
      "cell_type": "code",
      "source": [
        "n=int(input())\n",
        "\n",
        "for i in range(n):\n",
        "  p=1\n",
        "  for j in range(i,n):\n",
        "    print(\" \",end=\" \")\n",
        "\n",
        "  for j in range(i+1):\n",
        "    print (p,end=\" \")\n",
        "    p=p+1\n",
        "  print()"
      ],
      "metadata": {
        "colab": {
          "base_uri": "https://localhost:8080/"
        },
        "id": "1_t6JAALW_h3",
        "outputId": "7e80fedc-74bc-44ca-d09f-ed77426cacc9"
      },
      "execution_count": null,
      "outputs": [
        {
          "output_type": "stream",
          "name": "stdout",
          "text": [
            "5\n",
            "          1 \n",
            "        1 2 \n",
            "      1 2 3 \n",
            "    1 2 3 4 \n",
            "  1 2 3 4 5 \n"
          ]
        }
      ]
    },
    {
      "cell_type": "markdown",
      "source": [
        "# **Left Triangle -- Decrement Columns**"
      ],
      "metadata": {
        "id": "QXfG1tkeXbyN"
      }
    },
    {
      "cell_type": "code",
      "source": [
        "n=int(input())\n",
        "\n",
        "for i in range(n):\n",
        "  p=n\n",
        "  for j in range(i,n):\n",
        "    print(\" \",end=\" \")\n",
        "\n",
        "  for j in range(i+1):\n",
        "    print (p,end=\" \")\n",
        "    p=p-1\n",
        "  print()"
      ],
      "metadata": {
        "colab": {
          "base_uri": "https://localhost:8080/"
        },
        "id": "onK-xW9rXQWV",
        "outputId": "1a47c951-b06c-438f-8c0c-666025cc473c"
      },
      "execution_count": null,
      "outputs": [
        {
          "output_type": "stream",
          "name": "stdout",
          "text": [
            "5\n",
            "          5 \n",
            "        5 4 \n",
            "      5 4 3 \n",
            "    5 4 3 2 \n",
            "  5 4 3 2 1 \n"
          ]
        }
      ]
    },
    {
      "cell_type": "markdown",
      "source": [
        "# **Right Sided Triangle -- Decrementing Columns**"
      ],
      "metadata": {
        "id": "wetaRw9UXr19"
      }
    },
    {
      "cell_type": "code",
      "source": [
        "n=int(input())\n",
        "\n",
        "for i in range(n):\n",
        "  p=1\n",
        "  for j in range(i+1):\n",
        "    print(\" \",end=\" \")\n",
        "\n",
        "  for j in range (i,n):\n",
        "    print(p, end=\" \")\n",
        "    p=p+1\n",
        "  \n",
        "  print()"
      ],
      "metadata": {
        "colab": {
          "base_uri": "https://localhost:8080/"
        },
        "id": "7ryqnqwQXlON",
        "outputId": "870a16ea-3499-4a21-eebe-63562397851c"
      },
      "execution_count": null,
      "outputs": [
        {
          "output_type": "stream",
          "name": "stdout",
          "text": [
            "5\n",
            "  1 2 3 4 5 \n",
            "    1 2 3 4 \n",
            "      1 2 3 \n",
            "        1 2 \n",
            "          1 \n"
          ]
        }
      ]
    },
    {
      "cell_type": "markdown",
      "source": [
        "# **Right Sided Triangle -- Decrementing Columns**"
      ],
      "metadata": {
        "id": "ZHljYanNX3xe"
      }
    },
    {
      "cell_type": "code",
      "source": [
        "n=int(input())\n",
        "\n",
        "for i in range(n):\n",
        "  p=n\n",
        "  for j in range(i+1):\n",
        "    print(\" \",end=\" \")\n",
        "\n",
        "  for j in range (i,n):\n",
        "    print(p, end=\" \")\n",
        "    p=p-1\n",
        "  \n",
        "  print()"
      ],
      "metadata": {
        "colab": {
          "base_uri": "https://localhost:8080/"
        },
        "id": "d3oKkERrXyvl",
        "outputId": "1f450369-529e-4251-a666-4a3892da95fb"
      },
      "execution_count": null,
      "outputs": [
        {
          "output_type": "stream",
          "name": "stdout",
          "text": [
            "5\n",
            "  5 4 3 2 1 \n",
            "    5 4 3 2 \n",
            "      5 4 3 \n",
            "        5 4 \n",
            "          5 \n"
          ]
        }
      ]
    },
    {
      "cell_type": "markdown",
      "source": [
        "# **Hill Pattern -- Strainght Line -- Incrementing Columns**"
      ],
      "metadata": {
        "id": "nHFeG3PsYG7d"
      }
    },
    {
      "cell_type": "code",
      "source": [
        "n=int(input())\n",
        "\n",
        "for i in range(n):\n",
        "  p=1\n",
        "  for j in range(i,n):\n",
        "    print(\" \",end=\" \")\n",
        "  \n",
        "  for j in range (i):\n",
        "    print(p,end=\" \")\n",
        "    p=p+1\n",
        "  for j in range (i+1):\n",
        "    print(p,end=\" \")\n",
        "    p=p-1\n",
        "\n",
        "  print()"
      ],
      "metadata": {
        "colab": {
          "base_uri": "https://localhost:8080/"
        },
        "id": "BSR7isTPYKwl",
        "outputId": "f2ae8fc7-c461-4d0a-9d24-97256ed8b66f"
      },
      "execution_count": null,
      "outputs": [
        {
          "output_type": "stream",
          "name": "stdout",
          "text": [
            "5\n",
            "          1 \n",
            "        1 2 1 \n",
            "      1 2 3 2 1 \n",
            "    1 2 3 4 3 2 1 \n",
            "  1 2 3 4 5 4 3 2 1 \n"
          ]
        }
      ]
    },
    {
      "cell_type": "markdown",
      "source": [
        "# **Reverse Hill -- Decerementing Columns**"
      ],
      "metadata": {
        "id": "QP0zkbYLZuns"
      }
    },
    {
      "cell_type": "code",
      "source": [
        "n=int(input())\n",
        "\n",
        "for i in range(n):\n",
        "  p=1\n",
        "  for j in range(i+1):\n",
        "    print(\" \",end=\" \")\n",
        "\n",
        "  for j in range (i,n-1):\n",
        "    print(p, end= \" \")\n",
        "    p+=1\n",
        "\n",
        "  for j in range(i,n):\n",
        "    print(p,end=\" \")\n",
        "    p-=1\n",
        "\n",
        "  print()"
      ],
      "metadata": {
        "colab": {
          "base_uri": "https://localhost:8080/"
        },
        "id": "OtTLRtJmZXus",
        "outputId": "e315e5b4-3fef-470e-81eb-e8b37ee98cd2"
      },
      "execution_count": null,
      "outputs": [
        {
          "output_type": "stream",
          "name": "stdout",
          "text": [
            "5\n",
            "  1 2 3 4 5 4 3 2 1 \n",
            "    1 2 3 4 3 2 1 \n",
            "      1 2 3 2 1 \n",
            "        1 2 1 \n",
            "          1 \n"
          ]
        }
      ]
    },
    {
      "cell_type": "markdown",
      "source": [
        "# **Reverse Hill -- Decrementing Column**"
      ],
      "metadata": {
        "id": "U7cQBGFSaLhM"
      }
    },
    {
      "cell_type": "code",
      "source": [
        "n=int(input())\n",
        "\n",
        "for i in range(n):\n",
        "  p=n\n",
        "  for j in range(i+1):\n",
        "    print(\" \",end=\" \")\n",
        "\n",
        "  for j in range (i,n-1):\n",
        "    print(p, end= \" \")\n",
        "    p+=1\n",
        "\n",
        "  for j in range(i,n):\n",
        "    print(p,end=\" \")\n",
        "    p-=1\n",
        "\n",
        "  print()"
      ],
      "metadata": {
        "colab": {
          "base_uri": "https://localhost:8080/"
        },
        "id": "UwgCLyj8Z55U",
        "outputId": "2396bec3-5e8e-4130-f13e-a4e27b7b2d62"
      },
      "execution_count": null,
      "outputs": [
        {
          "output_type": "stream",
          "name": "stdout",
          "text": [
            "5\n",
            "  5 6 7 8 9 8 7 6 5 \n",
            "    5 6 7 8 7 6 5 \n",
            "      5 6 7 6 5 \n",
            "        5 6 5 \n",
            "          5 \n"
          ]
        }
      ]
    },
    {
      "cell_type": "markdown",
      "source": [
        "# **Left Pascal's Triangle -- Incrementing Columns**"
      ],
      "metadata": {
        "id": "TjB7L5LgcLxO"
      }
    },
    {
      "cell_type": "code",
      "source": [
        "n=int(input())\n",
        "\n",
        "for i in range(n-1):\n",
        "  p=1\n",
        "  for j in range(i+1):\n",
        "    print(p,end=\" \")\n",
        "    p+=1\n",
        "  print()\n",
        "\n",
        "for i in range(n):\n",
        "  p=1\n",
        "  for j in range(i,n):\n",
        "    print(p,end=\" \")\n",
        "    p+=1\n",
        "  print()"
      ],
      "metadata": {
        "colab": {
          "base_uri": "https://localhost:8080/"
        },
        "id": "aiPWMPnpcCKV",
        "outputId": "010a257e-034b-4406-e964-da6164a3dfb6"
      },
      "execution_count": null,
      "outputs": [
        {
          "output_type": "stream",
          "name": "stdout",
          "text": [
            "5\n",
            "1 \n",
            "1 2 \n",
            "1 2 3 \n",
            "1 2 3 4 \n",
            "1 2 3 4 5 \n",
            "1 2 3 4 \n",
            "1 2 3 \n",
            "1 2 \n",
            "1 \n"
          ]
        }
      ]
    },
    {
      "cell_type": "markdown",
      "source": [
        "# **Left Pascal's Triangle -- Decrementing Columns**"
      ],
      "metadata": {
        "id": "LOo2rJS6cqpb"
      }
    },
    {
      "cell_type": "code",
      "source": [
        "\n",
        "n=int(input())\n",
        "\n",
        "for i in range(n-1):\n",
        "  p=n\n",
        "  for j in range(i+1):\n",
        "    print(p,end=\" \")\n",
        "    p-=1\n",
        "  print()\n",
        "\n",
        "for i in range(n):\n",
        "  p=n\n",
        "  for j in range(i,n):\n",
        "    print(p,end=\" \")\n",
        "    p-=1\n",
        "  print()"
      ],
      "metadata": {
        "colab": {
          "base_uri": "https://localhost:8080/"
        },
        "id": "kkMrUwwjcdQj",
        "outputId": "53ab75f9-7c3a-4258-f022-d9acc4df5150"
      },
      "execution_count": null,
      "outputs": [
        {
          "output_type": "stream",
          "name": "stdout",
          "text": [
            "5\n",
            "5 \n",
            "5 4 \n",
            "5 4 3 \n",
            "5 4 3 2 \n",
            "5 4 3 2 1 \n",
            "5 4 3 2 \n",
            "5 4 3 \n",
            "5 4 \n",
            "5 \n"
          ]
        }
      ]
    },
    {
      "cell_type": "markdown",
      "source": [
        "# **Decrementing Column -- Ending Value Same Pattern Program**"
      ],
      "metadata": {
        "id": "j0Wb4B7L732J"
      }
    },
    {
      "cell_type": "code",
      "source": [
        "n=int(input())\n",
        "k=5\n",
        "for i in range(n):\n",
        "  p=k\n",
        "  for j in range(i):\n",
        "    print(\" \",end=\" \")\n",
        "  for j in range(i,n):\n",
        "    print(p,end=\" \")\n",
        "    p-=1\n",
        "  print()\n",
        "  k-=1\n",
        "\n",
        "\n"
      ],
      "metadata": {
        "colab": {
          "base_uri": "https://localhost:8080/"
        },
        "id": "3wSN7vSeduyO",
        "outputId": "cb7431f4-d113-4840-dae2-ebcc3c4bddf6"
      },
      "execution_count": null,
      "outputs": [
        {
          "output_type": "stream",
          "name": "stdout",
          "text": [
            "5\n",
            "5 4 3 2 1 \n",
            "  4 3 2 1 \n",
            "    3 2 1 \n",
            "      2 1 \n",
            "        1 \n"
          ]
        }
      ]
    },
    {
      "cell_type": "markdown",
      "source": [],
      "metadata": {
        "id": "lY-Ft4LUdueD"
      }
    }
  ]
}